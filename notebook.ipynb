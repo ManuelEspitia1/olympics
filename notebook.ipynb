{
 "cells": [
  {
   "cell_type": "markdown",
   "source": "# About This project",
   "metadata": {
    "formattedRanges": [],
    "cell_id": "a1b5e18142bc402f984389c80a596ea7",
    "tags": [],
    "is_collapsed": false,
    "deepnote_cell_type": "text-cell-h1"
   }
  },
  {
   "cell_type": "markdown",
   "source": "The idea is to practice and develope some SQL skills using an interesting data set with information of the last 120 years of olympic games. New and challenging ideas are welocome. ",
   "metadata": {
    "formattedRanges": [],
    "cell_id": "81f6c2aee3d44514b2b55f6453fe4f44",
    "tags": [],
    "is_collapsed": false,
    "deepnote_cell_type": "text-cell-p"
   }
  },
  {
   "cell_type": "markdown",
   "source": "## Extraction",
   "metadata": {
    "formattedRanges": [],
    "cell_id": "7ff98c15a12e4735a16e0603d49c7803",
    "tags": [],
    "is_collapsed": false,
    "deepnote_cell_type": "text-cell-h2"
   }
  },
  {
   "cell_type": "markdown",
   "source": "### Athlete Events",
   "metadata": {
    "formattedRanges": [],
    "cell_id": "92fbf51e2bc948a5acd6f1859d8a1cb3",
    "tags": [],
    "is_collapsed": false,
    "deepnote_cell_type": "text-cell-h3"
   }
  },
  {
   "cell_type": "code",
   "metadata": {
    "tags": [],
    "sql_integration_id": "deepnote-dataframe-sql",
    "cell_id": "f3bd4e486f7843a58189bd58f521f652",
    "deepnote_to_be_reexecuted": false,
    "source_hash": "89211ebd",
    "execution_start": 1658867300944,
    "execution_millis": 4214,
    "deepnote_table_state": {
     "pageSize": 10,
     "pageIndex": 0,
     "filters": [],
     "sortBy": [
      {
       "id": "Games",
       "type": "asc"
      }
     ]
    },
    "deepnote_table_loading": false,
    "deepnote_variable_name": "athlete_events",
    "deepnote_sql_source": "SELECT *\nFROM 'athlete_events.csv'",
    "deepnote_cell_type": "sql",
    "deepnote_cell_height": 707
   },
   "source": "\n\nathlete_events = _deepnote_execute_sql(\"\"\"SELECT *\nFROM 'athlete_events.csv'\n\"\"\", 'SQL_DEEPNOTE_DATAFRAME_SQL')\nathlete_events",
   "execution_count": 1,
   "outputs": [
    {
     "output_type": "execute_result",
     "execution_count": 1,
     "data": {
      "application/vnd.deepnote.dataframe.v3+json": {
       "column_count": 15,
       "row_count": 271116,
       "columns": [
        {
         "name": "ID",
         "dtype": "int64"
        },
        {
         "name": "Name",
         "dtype": "object"
        },
        {
         "name": "Sex",
         "dtype": "object"
        },
        {
         "name": "Age",
         "dtype": "object"
        },
        {
         "name": "Height",
         "dtype": "object"
        },
        {
         "name": "Weight",
         "dtype": "object"
        },
        {
         "name": "Team",
         "dtype": "object"
        },
        {
         "name": "NOC",
         "dtype": "object"
        },
        {
         "name": "Games",
         "dtype": "object"
        },
        {
         "name": "Year",
         "dtype": "int64"
        },
        {
         "name": "Season",
         "dtype": "object"
        },
        {
         "name": "City",
         "dtype": "object"
        },
        {
         "name": "Sport",
         "dtype": "object"
        },
        {
         "name": "Event",
         "dtype": "object"
        },
        {
         "name": "Medal",
         "dtype": "object"
        },
        {
         "name": "_deepnote_index_column",
         "dtype": "int64"
        }
       ],
       "rows": [
        {
         "ID": 66542,
         "Name": "Leonidas Lanngakis",
         "Sex": "M",
         "Age": "NA",
         "Height": "NA",
         "Weight": "NA",
         "Team": "Greece",
         "NOC": "GRE",
         "Games": "1896 Summer",
         "Year": 1896,
         "Season": "Summer",
         "City": "Athina",
         "Sport": "Shooting",
         "Event": "Shooting Men's Free Rifle, Three Positions, 300 metres",
         "Medal": "NA",
         "_deepnote_index_column": 132219
        },
        {
         "ID": 107613,
         "Name": "Carl Schuhmann",
         "Sex": "M",
         "Age": "26",
         "Height": "159",
         "Weight": "70",
         "Team": "Germany",
         "NOC": "GER",
         "Games": "1896 Summer",
         "Year": 1896,
         "Season": "Summer",
         "City": "Athina",
         "Sport": "Gymnastics",
         "Event": "Gymnastics Men's Rings",
         "Medal": "NA",
         "_deepnote_index_column": 214353
        },
        {
         "ID": 107613,
         "Name": "Carl Schuhmann",
         "Sex": "M",
         "Age": "26",
         "Height": "159",
         "Weight": "70",
         "Team": "Germany",
         "NOC": "GER",
         "Games": "1896 Summer",
         "Year": 1896,
         "Season": "Summer",
         "City": "Athina",
         "Sport": "Gymnastics",
         "Event": "Gymnastics Men's Horizontal Bar, Teams",
         "Medal": "Gold",
         "_deepnote_index_column": 214352
        },
        {
         "ID": 12929,
         "Name": "John Mary Pius Boland",
         "Sex": "M",
         "Age": "25",
         "Height": "NA",
         "Weight": "NA",
         "Team": "Great Britain",
         "NOC": "GBR",
         "Games": "1896 Summer",
         "Year": 1896,
         "Season": "Summer",
         "City": "Athina",
         "Sport": "Tennis",
         "Event": "Tennis Men's Singles",
         "Medal": "Gold",
         "_deepnote_index_column": 24682
        },
        {
         "ID": 107613,
         "Name": "Carl Schuhmann",
         "Sex": "M",
         "Age": "26",
         "Height": "159",
         "Weight": "70",
         "Team": "Germany",
         "NOC": "GER",
         "Games": "1896 Summer",
         "Year": 1896,
         "Season": "Summer",
         "City": "Athina",
         "Sport": "Wrestling",
         "Event": "Wrestling Men's Unlimited Class, Greco-Roman",
         "Medal": "Gold",
         "_deepnote_index_column": 214351
        },
        {
         "ID": 107613,
         "Name": "Carl Schuhmann",
         "Sex": "M",
         "Age": "26",
         "Height": "159",
         "Weight": "70",
         "Team": "Germany",
         "NOC": "GER",
         "Games": "1896 Summer",
         "Year": 1896,
         "Season": "Summer",
         "City": "Athina",
         "Sport": "Gymnastics",
         "Event": "Gymnastics Men's Horizontal Bar",
         "Medal": "NA",
         "_deepnote_index_column": 214350
        },
        {
         "ID": 107613,
         "Name": "Carl Schuhmann",
         "Sex": "M",
         "Age": "26",
         "Height": "159",
         "Weight": "70",
         "Team": "Germany",
         "NOC": "GER",
         "Games": "1896 Summer",
         "Year": 1896,
         "Season": "Summer",
         "City": "Athina",
         "Sport": "Weightlifting",
         "Event": "Weightlifting Men's Unlimited, Two Hands",
         "Medal": "NA",
         "_deepnote_index_column": 214349
        },
        {
         "ID": 107613,
         "Name": "Carl Schuhmann",
         "Sex": "M",
         "Age": "26",
         "Height": "159",
         "Weight": "70",
         "Team": "Germany",
         "NOC": "GER",
         "Games": "1896 Summer",
         "Year": 1896,
         "Season": "Summer",
         "City": "Athina",
         "Sport": "Gymnastics",
         "Event": "Gymnastics Men's Parallel Bars, Teams",
         "Medal": "Gold",
         "_deepnote_index_column": 214348
        },
        {
         "ID": 107613,
         "Name": "Carl Schuhmann",
         "Sex": "M",
         "Age": "26",
         "Height": "159",
         "Weight": "70",
         "Team": "Germany",
         "NOC": "GER",
         "Games": "1896 Summer",
         "Year": 1896,
         "Season": "Summer",
         "City": "Athina",
         "Sport": "Gymnastics",
         "Event": "Gymnastics Men's Parallel Bars",
         "Medal": "NA",
         "_deepnote_index_column": 214347
        },
        {
         "ID": 131985,
         "Name": "Thomas Xenakis",
         "Sex": "M",
         "Age": "21",
         "Height": "NA",
         "Weight": "NA",
         "Team": "Greece",
         "NOC": "GRE",
         "Games": "1896 Summer",
         "Year": 1896,
         "Season": "Summer",
         "City": "Athina",
         "Sport": "Gymnastics",
         "Event": "Gymnastics Men's Rope Climbing",
         "Medal": "Silver",
         "_deepnote_index_column": 263742
        }
       ]
      },
      "text/plain": "            ID                      Name Sex Age Height Weight  \\\n0            1                 A Dijiang   M  24    180     80   \n1            2                  A Lamusi   M  23    170     60   \n2            3       Gunnar Nielsen Aaby   M  24     NA     NA   \n3            4      Edgar Lindenau Aabye   M  34     NA     NA   \n4            5  Christine Jacoba Aaftink   F  21    185     82   \n...        ...                       ...  ..  ..    ...    ...   \n271111  135569                Andrzej ya   M  29    179     89   \n271112  135570                  Piotr ya   M  27    176     59   \n271113  135570                  Piotr ya   M  27    176     59   \n271114  135571        Tomasz Ireneusz ya   M  30    185     96   \n271115  135571        Tomasz Ireneusz ya   M  34    185     96   \n\n                  Team  NOC        Games  Year  Season            City  \\\n0                China  CHN  1992 Summer  1992  Summer       Barcelona   \n1                China  CHN  2012 Summer  2012  Summer          London   \n2              Denmark  DEN  1920 Summer  1920  Summer       Antwerpen   \n3       Denmark/Sweden  DEN  1900 Summer  1900  Summer           Paris   \n4          Netherlands  NED  1988 Winter  1988  Winter         Calgary   \n...                ...  ...          ...   ...     ...             ...   \n271111        Poland-1  POL  1976 Winter  1976  Winter       Innsbruck   \n271112          Poland  POL  2014 Winter  2014  Winter           Sochi   \n271113          Poland  POL  2014 Winter  2014  Winter           Sochi   \n271114          Poland  POL  1998 Winter  1998  Winter          Nagano   \n271115          Poland  POL  2002 Winter  2002  Winter  Salt Lake City   \n\n                Sport                                     Event Medal  \n0          Basketball               Basketball Men's Basketball    NA  \n1                Judo              Judo Men's Extra-Lightweight    NA  \n2            Football                   Football Men's Football    NA  \n3          Tug-Of-War               Tug-Of-War Men's Tug-Of-War  Gold  \n4       Speed Skating          Speed Skating Women's 500 metres    NA  \n...               ...                                       ...   ...  \n271111           Luge                Luge Mixed (Men)'s Doubles    NA  \n271112    Ski Jumping  Ski Jumping Men's Large Hill, Individual    NA  \n271113    Ski Jumping        Ski Jumping Men's Large Hill, Team    NA  \n271114      Bobsleigh                      Bobsleigh Men's Four    NA  \n271115      Bobsleigh                      Bobsleigh Men's Four    NA  \n\n[271116 rows x 15 columns]",
      "text/html": "<div>\n<style scoped>\n    .dataframe tbody tr th:only-of-type {\n        vertical-align: middle;\n    }\n\n    .dataframe tbody tr th {\n        vertical-align: top;\n    }\n\n    .dataframe thead th {\n        text-align: right;\n    }\n</style>\n<table border=\"1\" class=\"dataframe\">\n  <thead>\n    <tr style=\"text-align: right;\">\n      <th></th>\n      <th>ID</th>\n      <th>Name</th>\n      <th>Sex</th>\n      <th>Age</th>\n      <th>Height</th>\n      <th>Weight</th>\n      <th>Team</th>\n      <th>NOC</th>\n      <th>Games</th>\n      <th>Year</th>\n      <th>Season</th>\n      <th>City</th>\n      <th>Sport</th>\n      <th>Event</th>\n      <th>Medal</th>\n    </tr>\n  </thead>\n  <tbody>\n    <tr>\n      <th>0</th>\n      <td>1</td>\n      <td>A Dijiang</td>\n      <td>M</td>\n      <td>24</td>\n      <td>180</td>\n      <td>80</td>\n      <td>China</td>\n      <td>CHN</td>\n      <td>1992 Summer</td>\n      <td>1992</td>\n      <td>Summer</td>\n      <td>Barcelona</td>\n      <td>Basketball</td>\n      <td>Basketball Men's Basketball</td>\n      <td>NA</td>\n    </tr>\n    <tr>\n      <th>1</th>\n      <td>2</td>\n      <td>A Lamusi</td>\n      <td>M</td>\n      <td>23</td>\n      <td>170</td>\n      <td>60</td>\n      <td>China</td>\n      <td>CHN</td>\n      <td>2012 Summer</td>\n      <td>2012</td>\n      <td>Summer</td>\n      <td>London</td>\n      <td>Judo</td>\n      <td>Judo Men's Extra-Lightweight</td>\n      <td>NA</td>\n    </tr>\n    <tr>\n      <th>2</th>\n      <td>3</td>\n      <td>Gunnar Nielsen Aaby</td>\n      <td>M</td>\n      <td>24</td>\n      <td>NA</td>\n      <td>NA</td>\n      <td>Denmark</td>\n      <td>DEN</td>\n      <td>1920 Summer</td>\n      <td>1920</td>\n      <td>Summer</td>\n      <td>Antwerpen</td>\n      <td>Football</td>\n      <td>Football Men's Football</td>\n      <td>NA</td>\n    </tr>\n    <tr>\n      <th>3</th>\n      <td>4</td>\n      <td>Edgar Lindenau Aabye</td>\n      <td>M</td>\n      <td>34</td>\n      <td>NA</td>\n      <td>NA</td>\n      <td>Denmark/Sweden</td>\n      <td>DEN</td>\n      <td>1900 Summer</td>\n      <td>1900</td>\n      <td>Summer</td>\n      <td>Paris</td>\n      <td>Tug-Of-War</td>\n      <td>Tug-Of-War Men's Tug-Of-War</td>\n      <td>Gold</td>\n    </tr>\n    <tr>\n      <th>4</th>\n      <td>5</td>\n      <td>Christine Jacoba Aaftink</td>\n      <td>F</td>\n      <td>21</td>\n      <td>185</td>\n      <td>82</td>\n      <td>Netherlands</td>\n      <td>NED</td>\n      <td>1988 Winter</td>\n      <td>1988</td>\n      <td>Winter</td>\n      <td>Calgary</td>\n      <td>Speed Skating</td>\n      <td>Speed Skating Women's 500 metres</td>\n      <td>NA</td>\n    </tr>\n    <tr>\n      <th>...</th>\n      <td>...</td>\n      <td>...</td>\n      <td>...</td>\n      <td>...</td>\n      <td>...</td>\n      <td>...</td>\n      <td>...</td>\n      <td>...</td>\n      <td>...</td>\n      <td>...</td>\n      <td>...</td>\n      <td>...</td>\n      <td>...</td>\n      <td>...</td>\n      <td>...</td>\n    </tr>\n    <tr>\n      <th>271111</th>\n      <td>135569</td>\n      <td>Andrzej ya</td>\n      <td>M</td>\n      <td>29</td>\n      <td>179</td>\n      <td>89</td>\n      <td>Poland-1</td>\n      <td>POL</td>\n      <td>1976 Winter</td>\n      <td>1976</td>\n      <td>Winter</td>\n      <td>Innsbruck</td>\n      <td>Luge</td>\n      <td>Luge Mixed (Men)'s Doubles</td>\n      <td>NA</td>\n    </tr>\n    <tr>\n      <th>271112</th>\n      <td>135570</td>\n      <td>Piotr ya</td>\n      <td>M</td>\n      <td>27</td>\n      <td>176</td>\n      <td>59</td>\n      <td>Poland</td>\n      <td>POL</td>\n      <td>2014 Winter</td>\n      <td>2014</td>\n      <td>Winter</td>\n      <td>Sochi</td>\n      <td>Ski Jumping</td>\n      <td>Ski Jumping Men's Large Hill, Individual</td>\n      <td>NA</td>\n    </tr>\n    <tr>\n      <th>271113</th>\n      <td>135570</td>\n      <td>Piotr ya</td>\n      <td>M</td>\n      <td>27</td>\n      <td>176</td>\n      <td>59</td>\n      <td>Poland</td>\n      <td>POL</td>\n      <td>2014 Winter</td>\n      <td>2014</td>\n      <td>Winter</td>\n      <td>Sochi</td>\n      <td>Ski Jumping</td>\n      <td>Ski Jumping Men's Large Hill, Team</td>\n      <td>NA</td>\n    </tr>\n    <tr>\n      <th>271114</th>\n      <td>135571</td>\n      <td>Tomasz Ireneusz ya</td>\n      <td>M</td>\n      <td>30</td>\n      <td>185</td>\n      <td>96</td>\n      <td>Poland</td>\n      <td>POL</td>\n      <td>1998 Winter</td>\n      <td>1998</td>\n      <td>Winter</td>\n      <td>Nagano</td>\n      <td>Bobsleigh</td>\n      <td>Bobsleigh Men's Four</td>\n      <td>NA</td>\n    </tr>\n    <tr>\n      <th>271115</th>\n      <td>135571</td>\n      <td>Tomasz Ireneusz ya</td>\n      <td>M</td>\n      <td>34</td>\n      <td>185</td>\n      <td>96</td>\n      <td>Poland</td>\n      <td>POL</td>\n      <td>2002 Winter</td>\n      <td>2002</td>\n      <td>Winter</td>\n      <td>Salt Lake City</td>\n      <td>Bobsleigh</td>\n      <td>Bobsleigh Men's Four</td>\n      <td>NA</td>\n    </tr>\n  </tbody>\n</table>\n<p>271116 rows × 15 columns</p>\n</div>"
     },
     "metadata": {}
    }
   ]
  },
  {
   "cell_type": "markdown",
   "source": "### Countries",
   "metadata": {
    "formattedRanges": [],
    "cell_id": "522776bc7bcd45f88704faf3a205987a",
    "tags": [],
    "is_collapsed": false,
    "deepnote_cell_type": "text-cell-h3"
   }
  },
  {
   "cell_type": "code",
   "metadata": {
    "tags": [],
    "sql_integration_id": "deepnote-dataframe-sql",
    "cell_id": "a4640de182a9425a878a2d50bae96c41",
    "deepnote_to_be_reexecuted": false,
    "source_hash": "7b32756c",
    "execution_start": 1658867305118,
    "execution_millis": 74,
    "deepnote_variable_name": "noc_regions",
    "deepnote_sql_source": "SELECT *\nFROM 'noc_regions.csv'",
    "deepnote_cell_type": "sql",
    "deepnote_cell_height": 658
   },
   "source": "\n\nnoc_regions = _deepnote_execute_sql(\"\"\"SELECT *\nFROM 'noc_regions.csv'\n\"\"\", 'SQL_DEEPNOTE_DATAFRAME_SQL')\nnoc_regions",
   "execution_count": 2,
   "outputs": [
    {
     "output_type": "execute_result",
     "execution_count": 2,
     "data": {
      "application/vnd.deepnote.dataframe.v3+json": {
       "column_count": 3,
       "row_count": 231,
       "columns": [
        {
         "name": "column0",
         "dtype": "object",
         "stats": {
          "unique_count": 231,
          "nan_count": 0,
          "categories": [
           {
            "name": "NOC",
            "count": 1
           },
           {
            "name": "AFG",
            "count": 1
           },
           {
            "name": "229 others",
            "count": 229
           }
          ]
         }
        },
        {
         "name": "column1",
         "dtype": "object",
         "stats": {
          "unique_count": 208,
          "nan_count": 0,
          "categories": [
           {
            "name": "Germany",
            "count": 4
           },
           {
            "name": "Czech Republic",
            "count": 3
           },
           {
            "name": "206 others",
            "count": 224
           }
          ]
         }
        },
        {
         "name": "column2",
         "dtype": "object",
         "stats": {
          "unique_count": 22,
          "nan_count": 209,
          "categories": [
           {
            "name": "notes",
            "count": 1
           },
           {
            "name": "21 others",
            "count": 21
           },
           {
            "name": "Missing",
            "count": 209
           }
          ]
         }
        },
        {
         "name": "_deepnote_index_column",
         "dtype": "int64"
        }
       ],
       "rows": [
        {
         "column0": "NOC",
         "column1": "region",
         "column2": "notes",
         "_deepnote_index_column": 0
        },
        {
         "column0": "AFG",
         "column1": "Afghanistan",
         "column2": "None",
         "_deepnote_index_column": 1
        },
        {
         "column0": "AHO",
         "column1": "Curacao",
         "column2": "Netherlands Antilles",
         "_deepnote_index_column": 2
        },
        {
         "column0": "ALB",
         "column1": "Albania",
         "column2": "None",
         "_deepnote_index_column": 3
        },
        {
         "column0": "ALG",
         "column1": "Algeria",
         "column2": "None",
         "_deepnote_index_column": 4
        },
        {
         "column0": "AND",
         "column1": "Andorra",
         "column2": "None",
         "_deepnote_index_column": 5
        },
        {
         "column0": "ANG",
         "column1": "Angola",
         "column2": "None",
         "_deepnote_index_column": 6
        },
        {
         "column0": "ANT",
         "column1": "Antigua",
         "column2": "Antigua and Barbuda",
         "_deepnote_index_column": 7
        },
        {
         "column0": "ANZ",
         "column1": "Australia",
         "column2": "Australasia",
         "_deepnote_index_column": 8
        },
        {
         "column0": "ARG",
         "column1": "Argentina",
         "column2": "None",
         "_deepnote_index_column": 9
        }
       ]
      },
      "text/plain": "    column0      column1               column2\n0       NOC       region                 notes\n1       AFG  Afghanistan                  None\n2       AHO      Curacao  Netherlands Antilles\n3       ALB      Albania                  None\n4       ALG      Algeria                  None\n..      ...          ...                   ...\n226     YEM        Yemen                  None\n227     YMD        Yemen           South Yemen\n228     YUG       Serbia            Yugoslavia\n229     ZAM       Zambia                  None\n230     ZIM     Zimbabwe                  None\n\n[231 rows x 3 columns]",
      "text/html": "<div>\n<style scoped>\n    .dataframe tbody tr th:only-of-type {\n        vertical-align: middle;\n    }\n\n    .dataframe tbody tr th {\n        vertical-align: top;\n    }\n\n    .dataframe thead th {\n        text-align: right;\n    }\n</style>\n<table border=\"1\" class=\"dataframe\">\n  <thead>\n    <tr style=\"text-align: right;\">\n      <th></th>\n      <th>column0</th>\n      <th>column1</th>\n      <th>column2</th>\n    </tr>\n  </thead>\n  <tbody>\n    <tr>\n      <th>0</th>\n      <td>NOC</td>\n      <td>region</td>\n      <td>notes</td>\n    </tr>\n    <tr>\n      <th>1</th>\n      <td>AFG</td>\n      <td>Afghanistan</td>\n      <td>None</td>\n    </tr>\n    <tr>\n      <th>2</th>\n      <td>AHO</td>\n      <td>Curacao</td>\n      <td>Netherlands Antilles</td>\n    </tr>\n    <tr>\n      <th>3</th>\n      <td>ALB</td>\n      <td>Albania</td>\n      <td>None</td>\n    </tr>\n    <tr>\n      <th>4</th>\n      <td>ALG</td>\n      <td>Algeria</td>\n      <td>None</td>\n    </tr>\n    <tr>\n      <th>...</th>\n      <td>...</td>\n      <td>...</td>\n      <td>...</td>\n    </tr>\n    <tr>\n      <th>226</th>\n      <td>YEM</td>\n      <td>Yemen</td>\n      <td>None</td>\n    </tr>\n    <tr>\n      <th>227</th>\n      <td>YMD</td>\n      <td>Yemen</td>\n      <td>South Yemen</td>\n    </tr>\n    <tr>\n      <th>228</th>\n      <td>YUG</td>\n      <td>Serbia</td>\n      <td>Yugoslavia</td>\n    </tr>\n    <tr>\n      <th>229</th>\n      <td>ZAM</td>\n      <td>Zambia</td>\n      <td>None</td>\n    </tr>\n    <tr>\n      <th>230</th>\n      <td>ZIM</td>\n      <td>Zimbabwe</td>\n      <td>None</td>\n    </tr>\n  </tbody>\n</table>\n<p>231 rows × 3 columns</p>\n</div>"
     },
     "metadata": {}
    }
   ]
  },
  {
   "cell_type": "markdown",
   "source": "## Questions to be answered",
   "metadata": {
    "formattedRanges": [],
    "cell_id": "104994d5b6ef483caedd1d2d49e99b68",
    "tags": [],
    "is_collapsed": false,
    "deepnote_cell_type": "text-cell-h2"
   }
  },
  {
   "cell_type": "markdown",
   "source": "### How many olympics games have been held?",
   "metadata": {
    "formattedRanges": [],
    "cell_id": "5f5162c37b0a4fa9aab5bd1a3ec6116a",
    "tags": [],
    "is_collapsed": false,
    "deepnote_cell_type": "text-cell-h3"
   }
  },
  {
   "cell_type": "code",
   "metadata": {
    "tags": [],
    "deepnote_variable_name": "all_olympic_games",
    "sql_integration_id": "deepnote-dataframe-sql",
    "cell_id": "82a469204c3f45248ee2a61b1b0d2f9d",
    "deepnote_to_be_reexecuted": false,
    "source_hash": "236beb2e",
    "execution_start": 1658867305172,
    "execution_millis": 69,
    "deepnote_sql_source": "SELECT COUNT (DISTINCT games)\nFROM athlete_events",
    "deepnote_cell_type": "sql",
    "deepnote_cell_height": 289
   },
   "source": "\n\nall_olympic_games = _deepnote_execute_sql(\"\"\"SELECT COUNT (DISTINCT games)\nFROM athlete_events\n\"\"\", 'SQL_DEEPNOTE_DATAFRAME_SQL')\nall_olympic_games",
   "execution_count": 3,
   "outputs": [
    {
     "output_type": "execute_result",
     "execution_count": 3,
     "data": {
      "application/vnd.deepnote.dataframe.v3+json": {
       "column_count": 1,
       "row_count": 1,
       "columns": [
        {
         "name": "count(DISTINCT games)",
         "dtype": "int64",
         "stats": {
          "unique_count": 1,
          "nan_count": 0,
          "min": "51",
          "max": "51",
          "histogram": [
           {
            "bin_start": 50.5,
            "bin_end": 50.6,
            "count": 0
           },
           {
            "bin_start": 50.6,
            "bin_end": 50.7,
            "count": 0
           },
           {
            "bin_start": 50.7,
            "bin_end": 50.8,
            "count": 0
           },
           {
            "bin_start": 50.8,
            "bin_end": 50.9,
            "count": 0
           },
           {
            "bin_start": 50.9,
            "bin_end": 51,
            "count": 0
           },
           {
            "bin_start": 51,
            "bin_end": 51.1,
            "count": 1
           },
           {
            "bin_start": 51.1,
            "bin_end": 51.2,
            "count": 0
           },
           {
            "bin_start": 51.2,
            "bin_end": 51.3,
            "count": 0
           },
           {
            "bin_start": 51.3,
            "bin_end": 51.4,
            "count": 0
           },
           {
            "bin_start": 51.4,
            "bin_end": 51.5,
            "count": 0
           }
          ]
         }
        },
        {
         "name": "_deepnote_index_column",
         "dtype": "int64"
        }
       ],
       "rows": [
        {
         "count(DISTINCT games)": 51,
         "_deepnote_index_column": 0
        }
       ]
      },
      "text/plain": "   count(DISTINCT games)\n0                     51",
      "text/html": "<div>\n<style scoped>\n    .dataframe tbody tr th:only-of-type {\n        vertical-align: middle;\n    }\n\n    .dataframe tbody tr th {\n        vertical-align: top;\n    }\n\n    .dataframe thead th {\n        text-align: right;\n    }\n</style>\n<table border=\"1\" class=\"dataframe\">\n  <thead>\n    <tr style=\"text-align: right;\">\n      <th></th>\n      <th>count(DISTINCT games)</th>\n    </tr>\n  </thead>\n  <tbody>\n    <tr>\n      <th>0</th>\n      <td>51</td>\n    </tr>\n  </tbody>\n</table>\n</div>"
     },
     "metadata": {}
    }
   ]
  },
  {
   "cell_type": "markdown",
   "source": "### When and where have all olympics been held?",
   "metadata": {
    "formattedRanges": [],
    "cell_id": "bf4984c72b044efbb7685162b1c91281",
    "tags": [],
    "is_collapsed": false,
    "deepnote_cell_type": "text-cell-h3"
   }
  },
  {
   "cell_type": "code",
   "metadata": {
    "tags": [],
    "sql_integration_id": "deepnote-dataframe-sql",
    "cell_id": "a9238206ae0a47f49e804c7f20523046",
    "deepnote_to_be_reexecuted": false,
    "source_hash": "c2281e9e",
    "execution_start": 1658867305289,
    "execution_millis": 82,
    "deepnote_variable_name": "list_all_games",
    "deepnote_sql_source": "SELECT\nDISTINCT Year, season, city\nFROM athlete_events\nORDER BY year",
    "deepnote_cell_type": "sql",
    "deepnote_cell_height": 694
   },
   "source": "\n\nlist_all_games = _deepnote_execute_sql(\"\"\"SELECT\nDISTINCT Year, season, city\nFROM athlete_events\nORDER BY year\n\"\"\", 'SQL_DEEPNOTE_DATAFRAME_SQL')\nlist_all_games",
   "execution_count": 4,
   "outputs": [
    {
     "output_type": "execute_result",
     "execution_count": 4,
     "data": {
      "application/vnd.deepnote.dataframe.v3+json": {
       "column_count": 3,
       "row_count": 52,
       "columns": [
        {
         "name": "Year",
         "dtype": "int64",
         "stats": {
          "unique_count": 35,
          "nan_count": 0,
          "min": "1896",
          "max": "2016",
          "histogram": [
           {
            "bin_start": 1896,
            "bin_end": 1908,
            "count": 4
           },
           {
            "bin_start": 1908,
            "bin_end": 1920,
            "count": 2
           },
           {
            "bin_start": 1920,
            "bin_end": 1932,
            "count": 5
           },
           {
            "bin_start": 1932,
            "bin_end": 1944,
            "count": 4
           },
           {
            "bin_start": 1944,
            "bin_end": 1956,
            "count": 4
           },
           {
            "bin_start": 1956,
            "bin_end": 1968,
            "count": 7
           },
           {
            "bin_start": 1968,
            "bin_end": 1980,
            "count": 6
           },
           {
            "bin_start": 1980,
            "bin_end": 1992,
            "count": 6
           },
           {
            "bin_start": 1992,
            "bin_end": 2004,
            "count": 7
           },
           {
            "bin_start": 2004,
            "bin_end": 2016,
            "count": 7
           }
          ]
         }
        },
        {
         "name": "Season",
         "dtype": "object",
         "stats": {
          "unique_count": 2,
          "nan_count": 0,
          "categories": [
           {
            "name": "Summer",
            "count": 30
           },
           {
            "name": "Winter",
            "count": 22
           }
          ]
         }
        },
        {
         "name": "City",
         "dtype": "object",
         "stats": {
          "unique_count": 42,
          "nan_count": 0,
          "categories": [
           {
            "name": "Athina",
            "count": 3
           },
           {
            "name": "London",
            "count": 3
           },
           {
            "name": "40 others",
            "count": 46
           }
          ]
         }
        },
        {
         "name": "_deepnote_index_column",
         "dtype": "int64"
        }
       ],
       "rows": [
        {
         "Year": 1896,
         "Season": "Summer",
         "City": "Athina",
         "_deepnote_index_column": 0
        },
        {
         "Year": 1900,
         "Season": "Summer",
         "City": "Paris",
         "_deepnote_index_column": 1
        },
        {
         "Year": 1904,
         "Season": "Summer",
         "City": "St. Louis",
         "_deepnote_index_column": 2
        },
        {
         "Year": 1906,
         "Season": "Summer",
         "City": "Athina",
         "_deepnote_index_column": 3
        },
        {
         "Year": 1908,
         "Season": "Summer",
         "City": "London",
         "_deepnote_index_column": 4
        },
        {
         "Year": 1912,
         "Season": "Summer",
         "City": "Stockholm",
         "_deepnote_index_column": 5
        },
        {
         "Year": 1920,
         "Season": "Summer",
         "City": "Antwerpen",
         "_deepnote_index_column": 6
        },
        {
         "Year": 1924,
         "Season": "Summer",
         "City": "Paris",
         "_deepnote_index_column": 7
        },
        {
         "Year": 1924,
         "Season": "Winter",
         "City": "Chamonix",
         "_deepnote_index_column": 8
        },
        {
         "Year": 1928,
         "Season": "Winter",
         "City": "Sankt Moritz",
         "_deepnote_index_column": 9
        }
       ]
      },
      "text/plain": "    Year  Season                    City\n0   1896  Summer                  Athina\n1   1900  Summer                   Paris\n2   1904  Summer               St. Louis\n3   1906  Summer                  Athina\n4   1908  Summer                  London\n5   1912  Summer               Stockholm\n6   1920  Summer               Antwerpen\n7   1924  Summer                   Paris\n8   1924  Winter                Chamonix\n9   1928  Winter            Sankt Moritz\n10  1928  Summer               Amsterdam\n11  1932  Summer             Los Angeles\n12  1932  Winter             Lake Placid\n13  1936  Summer                  Berlin\n14  1936  Winter  Garmisch-Partenkirchen\n15  1948  Summer                  London\n16  1948  Winter            Sankt Moritz\n17  1952  Summer                Helsinki\n18  1952  Winter                    Oslo\n19  1956  Summer               Melbourne\n20  1956  Winter       Cortina d'Ampezzo\n21  1956  Summer               Stockholm\n22  1960  Summer                    Roma\n23  1960  Winter            Squaw Valley\n24  1964  Summer                   Tokyo\n25  1964  Winter               Innsbruck\n26  1968  Summer             Mexico City\n27  1968  Winter                Grenoble\n28  1972  Summer                  Munich\n29  1972  Winter                 Sapporo\n30  1976  Winter               Innsbruck\n31  1976  Summer                Montreal\n32  1980  Summer                  Moskva\n33  1980  Winter             Lake Placid\n34  1984  Summer             Los Angeles\n35  1984  Winter                Sarajevo\n36  1988  Summer                   Seoul\n37  1988  Winter                 Calgary\n38  1992  Summer               Barcelona\n39  1992  Winter             Albertville\n40  1994  Winter             Lillehammer\n41  1996  Summer                 Atlanta\n42  1998  Winter                  Nagano\n43  2000  Summer                  Sydney\n44  2002  Winter          Salt Lake City\n45  2004  Summer                  Athina\n46  2006  Winter                  Torino\n47  2008  Summer                 Beijing\n48  2010  Winter               Vancouver\n49  2012  Summer                  London\n50  2014  Winter                   Sochi\n51  2016  Summer          Rio de Janeiro",
      "text/html": "<div>\n<style scoped>\n    .dataframe tbody tr th:only-of-type {\n        vertical-align: middle;\n    }\n\n    .dataframe tbody tr th {\n        vertical-align: top;\n    }\n\n    .dataframe thead th {\n        text-align: right;\n    }\n</style>\n<table border=\"1\" class=\"dataframe\">\n  <thead>\n    <tr style=\"text-align: right;\">\n      <th></th>\n      <th>Year</th>\n      <th>Season</th>\n      <th>City</th>\n    </tr>\n  </thead>\n  <tbody>\n    <tr>\n      <th>0</th>\n      <td>1896</td>\n      <td>Summer</td>\n      <td>Athina</td>\n    </tr>\n    <tr>\n      <th>1</th>\n      <td>1900</td>\n      <td>Summer</td>\n      <td>Paris</td>\n    </tr>\n    <tr>\n      <th>2</th>\n      <td>1904</td>\n      <td>Summer</td>\n      <td>St. Louis</td>\n    </tr>\n    <tr>\n      <th>3</th>\n      <td>1906</td>\n      <td>Summer</td>\n      <td>Athina</td>\n    </tr>\n    <tr>\n      <th>4</th>\n      <td>1908</td>\n      <td>Summer</td>\n      <td>London</td>\n    </tr>\n    <tr>\n      <th>5</th>\n      <td>1912</td>\n      <td>Summer</td>\n      <td>Stockholm</td>\n    </tr>\n    <tr>\n      <th>6</th>\n      <td>1920</td>\n      <td>Summer</td>\n      <td>Antwerpen</td>\n    </tr>\n    <tr>\n      <th>7</th>\n      <td>1924</td>\n      <td>Summer</td>\n      <td>Paris</td>\n    </tr>\n    <tr>\n      <th>8</th>\n      <td>1924</td>\n      <td>Winter</td>\n      <td>Chamonix</td>\n    </tr>\n    <tr>\n      <th>9</th>\n      <td>1928</td>\n      <td>Winter</td>\n      <td>Sankt Moritz</td>\n    </tr>\n    <tr>\n      <th>10</th>\n      <td>1928</td>\n      <td>Summer</td>\n      <td>Amsterdam</td>\n    </tr>\n    <tr>\n      <th>11</th>\n      <td>1932</td>\n      <td>Summer</td>\n      <td>Los Angeles</td>\n    </tr>\n    <tr>\n      <th>12</th>\n      <td>1932</td>\n      <td>Winter</td>\n      <td>Lake Placid</td>\n    </tr>\n    <tr>\n      <th>13</th>\n      <td>1936</td>\n      <td>Summer</td>\n      <td>Berlin</td>\n    </tr>\n    <tr>\n      <th>14</th>\n      <td>1936</td>\n      <td>Winter</td>\n      <td>Garmisch-Partenkirchen</td>\n    </tr>\n    <tr>\n      <th>15</th>\n      <td>1948</td>\n      <td>Summer</td>\n      <td>London</td>\n    </tr>\n    <tr>\n      <th>16</th>\n      <td>1948</td>\n      <td>Winter</td>\n      <td>Sankt Moritz</td>\n    </tr>\n    <tr>\n      <th>17</th>\n      <td>1952</td>\n      <td>Summer</td>\n      <td>Helsinki</td>\n    </tr>\n    <tr>\n      <th>18</th>\n      <td>1952</td>\n      <td>Winter</td>\n      <td>Oslo</td>\n    </tr>\n    <tr>\n      <th>19</th>\n      <td>1956</td>\n      <td>Summer</td>\n      <td>Melbourne</td>\n    </tr>\n    <tr>\n      <th>20</th>\n      <td>1956</td>\n      <td>Winter</td>\n      <td>Cortina d'Ampezzo</td>\n    </tr>\n    <tr>\n      <th>21</th>\n      <td>1956</td>\n      <td>Summer</td>\n      <td>Stockholm</td>\n    </tr>\n    <tr>\n      <th>22</th>\n      <td>1960</td>\n      <td>Summer</td>\n      <td>Roma</td>\n    </tr>\n    <tr>\n      <th>23</th>\n      <td>1960</td>\n      <td>Winter</td>\n      <td>Squaw Valley</td>\n    </tr>\n    <tr>\n      <th>24</th>\n      <td>1964</td>\n      <td>Summer</td>\n      <td>Tokyo</td>\n    </tr>\n    <tr>\n      <th>25</th>\n      <td>1964</td>\n      <td>Winter</td>\n      <td>Innsbruck</td>\n    </tr>\n    <tr>\n      <th>26</th>\n      <td>1968</td>\n      <td>Summer</td>\n      <td>Mexico City</td>\n    </tr>\n    <tr>\n      <th>27</th>\n      <td>1968</td>\n      <td>Winter</td>\n      <td>Grenoble</td>\n    </tr>\n    <tr>\n      <th>28</th>\n      <td>1972</td>\n      <td>Summer</td>\n      <td>Munich</td>\n    </tr>\n    <tr>\n      <th>29</th>\n      <td>1972</td>\n      <td>Winter</td>\n      <td>Sapporo</td>\n    </tr>\n    <tr>\n      <th>30</th>\n      <td>1976</td>\n      <td>Winter</td>\n      <td>Innsbruck</td>\n    </tr>\n    <tr>\n      <th>31</th>\n      <td>1976</td>\n      <td>Summer</td>\n      <td>Montreal</td>\n    </tr>\n    <tr>\n      <th>32</th>\n      <td>1980</td>\n      <td>Summer</td>\n      <td>Moskva</td>\n    </tr>\n    <tr>\n      <th>33</th>\n      <td>1980</td>\n      <td>Winter</td>\n      <td>Lake Placid</td>\n    </tr>\n    <tr>\n      <th>34</th>\n      <td>1984</td>\n      <td>Summer</td>\n      <td>Los Angeles</td>\n    </tr>\n    <tr>\n      <th>35</th>\n      <td>1984</td>\n      <td>Winter</td>\n      <td>Sarajevo</td>\n    </tr>\n    <tr>\n      <th>36</th>\n      <td>1988</td>\n      <td>Summer</td>\n      <td>Seoul</td>\n    </tr>\n    <tr>\n      <th>37</th>\n      <td>1988</td>\n      <td>Winter</td>\n      <td>Calgary</td>\n    </tr>\n    <tr>\n      <th>38</th>\n      <td>1992</td>\n      <td>Summer</td>\n      <td>Barcelona</td>\n    </tr>\n    <tr>\n      <th>39</th>\n      <td>1992</td>\n      <td>Winter</td>\n      <td>Albertville</td>\n    </tr>\n    <tr>\n      <th>40</th>\n      <td>1994</td>\n      <td>Winter</td>\n      <td>Lillehammer</td>\n    </tr>\n    <tr>\n      <th>41</th>\n      <td>1996</td>\n      <td>Summer</td>\n      <td>Atlanta</td>\n    </tr>\n    <tr>\n      <th>42</th>\n      <td>1998</td>\n      <td>Winter</td>\n      <td>Nagano</td>\n    </tr>\n    <tr>\n      <th>43</th>\n      <td>2000</td>\n      <td>Summer</td>\n      <td>Sydney</td>\n    </tr>\n    <tr>\n      <th>44</th>\n      <td>2002</td>\n      <td>Winter</td>\n      <td>Salt Lake City</td>\n    </tr>\n    <tr>\n      <th>45</th>\n      <td>2004</td>\n      <td>Summer</td>\n      <td>Athina</td>\n    </tr>\n    <tr>\n      <th>46</th>\n      <td>2006</td>\n      <td>Winter</td>\n      <td>Torino</td>\n    </tr>\n    <tr>\n      <th>47</th>\n      <td>2008</td>\n      <td>Summer</td>\n      <td>Beijing</td>\n    </tr>\n    <tr>\n      <th>48</th>\n      <td>2010</td>\n      <td>Winter</td>\n      <td>Vancouver</td>\n    </tr>\n    <tr>\n      <th>49</th>\n      <td>2012</td>\n      <td>Summer</td>\n      <td>London</td>\n    </tr>\n    <tr>\n      <th>50</th>\n      <td>2014</td>\n      <td>Winter</td>\n      <td>Sochi</td>\n    </tr>\n    <tr>\n      <th>51</th>\n      <td>2016</td>\n      <td>Summer</td>\n      <td>Rio de Janeiro</td>\n    </tr>\n  </tbody>\n</table>\n</div>"
     },
     "metadata": {}
    }
   ]
  },
  {
   "cell_type": "markdown",
   "source": "### How many countries have participated in each olympic games?",
   "metadata": {
    "formattedRanges": [],
    "cell_id": "925969dde06448abaddd4282ef6741f7",
    "tags": [],
    "is_collapsed": false,
    "deepnote_cell_type": "text-cell-h3"
   }
  },
  {
   "cell_type": "code",
   "metadata": {
    "tags": [],
    "deepnote_variable_name": "num_countries_each_game",
    "sql_integration_id": "deepnote-dataframe-sql",
    "cell_id": "409640b8572d4c7c94a207eb6516c023",
    "deepnote_to_be_reexecuted": false,
    "source_hash": "4481d7e9",
    "execution_start": 1658867305378,
    "execution_millis": 160,
    "deepnote_table_state": {
     "pageSize": 10,
     "pageIndex": 0,
     "filters": [],
     "sortBy": []
    },
    "deepnote_table_loading": false,
    "deepnote_sql_source": "SELECT \n    DISTINCT ae.games AS olympic_games,\n    COUNT(DISTINCT nr.column1) AS number_countries\n\nFROM athlete_events ae\nLEFT JOIN noc_regions nr ON nr.column0 = ae.noc\n\nGROUP BY games\nORDER BY games ASC",
    "deepnote_cell_type": "sql",
    "deepnote_cell_height": 784
   },
   "source": "\n\nnum_countries_each_game = _deepnote_execute_sql(\"\"\"SELECT \n    DISTINCT ae.games AS olympic_games,\n    COUNT(DISTINCT nr.column1) AS number_countries\n\nFROM athlete_events ae\nLEFT JOIN noc_regions nr ON nr.column0 = ae.noc\n\nGROUP BY games\nORDER BY games ASC\n\"\"\", 'SQL_DEEPNOTE_DATAFRAME_SQL')\nnum_countries_each_game",
   "execution_count": 5,
   "outputs": [
    {
     "output_type": "execute_result",
     "execution_count": 5,
     "data": {
      "application/vnd.deepnote.dataframe.v3+json": {
       "column_count": 2,
       "row_count": 51,
       "columns": [
        {
         "name": "olympic_games",
         "dtype": "object",
         "stats": {
          "unique_count": 51,
          "nan_count": 0,
          "categories": [
           {
            "name": "1896 Summer",
            "count": 1
           },
           {
            "name": "1900 Summer",
            "count": 1
           },
           {
            "name": "49 others",
            "count": 49
           }
          ]
         }
        },
        {
         "name": "number_countries",
         "dtype": "int64",
         "stats": {
          "unique_count": 45,
          "nan_count": 0,
          "min": "12",
          "max": "204",
          "histogram": [
           {
            "bin_start": 12,
            "bin_end": 31.2,
            "count": 14
           },
           {
            "bin_start": 31.2,
            "bin_end": 50.4,
            "count": 11
           },
           {
            "bin_start": 50.4,
            "bin_end": 69.6,
            "count": 5
           },
           {
            "bin_start": 69.6,
            "bin_end": 88.8,
            "count": 8
           },
           {
            "bin_start": 88.8,
            "bin_end": 108,
            "count": 2
           },
           {
            "bin_start": 108,
            "bin_end": 127.19999999999999,
            "count": 2
           },
           {
            "bin_start": 127.19999999999999,
            "bin_end": 146.4,
            "count": 1
           },
           {
            "bin_start": 146.4,
            "bin_end": 165.6,
            "count": 1
           },
           {
            "bin_start": 165.6,
            "bin_end": 184.79999999999998,
            "count": 1
           },
           {
            "bin_start": 184.79999999999998,
            "bin_end": 204,
            "count": 6
           }
          ]
         }
        },
        {
         "name": "_deepnote_index_column",
         "dtype": "int64"
        }
       ],
       "rows": [
        {
         "olympic_games": "1896 Summer",
         "number_countries": 12,
         "_deepnote_index_column": 0
        },
        {
         "olympic_games": "1900 Summer",
         "number_countries": 31,
         "_deepnote_index_column": 1
        },
        {
         "olympic_games": "1904 Summer",
         "number_countries": 14,
         "_deepnote_index_column": 2
        },
        {
         "olympic_games": "1906 Summer",
         "number_countries": 20,
         "_deepnote_index_column": 3
        },
        {
         "olympic_games": "1908 Summer",
         "number_countries": 22,
         "_deepnote_index_column": 4
        },
        {
         "olympic_games": "1912 Summer",
         "number_countries": 29,
         "_deepnote_index_column": 5
        },
        {
         "olympic_games": "1920 Summer",
         "number_countries": 29,
         "_deepnote_index_column": 6
        },
        {
         "olympic_games": "1924 Summer",
         "number_countries": 45,
         "_deepnote_index_column": 7
        },
        {
         "olympic_games": "1924 Winter",
         "number_countries": 19,
         "_deepnote_index_column": 8
        },
        {
         "olympic_games": "1928 Summer",
         "number_countries": 46,
         "_deepnote_index_column": 9
        }
       ]
      },
      "text/plain": "   olympic_games  number_countries\n0    1896 Summer                12\n1    1900 Summer                31\n2    1904 Summer                14\n3    1906 Summer                20\n4    1908 Summer                22\n5    1912 Summer                29\n6    1920 Summer                29\n7    1924 Summer                45\n8    1924 Winter                19\n9    1928 Summer                46\n10   1928 Winter                25\n11   1932 Summer                47\n12   1932 Winter                17\n13   1936 Summer                49\n14   1936 Winter                28\n15   1948 Summer                58\n16   1948 Winter                28\n17   1952 Summer                66\n18   1952 Winter                30\n19   1956 Summer                70\n20   1956 Winter                32\n21   1960 Summer                82\n22   1960 Winter                30\n23   1964 Summer                93\n24   1964 Winter                36\n25   1968 Summer               110\n26   1968 Winter                36\n27   1972 Summer               119\n28   1972 Winter                34\n29   1976 Summer                90\n30   1976 Winter                36\n31   1980 Summer                80\n32   1980 Winter                36\n33   1984 Summer               138\n34   1984 Winter                48\n35   1988 Summer               155\n36   1988 Winter                56\n37   1992 Summer               167\n38   1992 Winter                64\n39   1994 Winter                67\n40   1996 Summer               195\n41   1998 Winter                72\n42   2000 Summer               198\n43   2002 Winter                76\n44   2004 Summer               199\n45   2006 Winter                78\n46   2008 Summer               202\n47   2010 Winter                81\n48   2012 Summer               203\n49   2014 Winter                88\n50   2016 Summer               204",
      "text/html": "<div>\n<style scoped>\n    .dataframe tbody tr th:only-of-type {\n        vertical-align: middle;\n    }\n\n    .dataframe tbody tr th {\n        vertical-align: top;\n    }\n\n    .dataframe thead th {\n        text-align: right;\n    }\n</style>\n<table border=\"1\" class=\"dataframe\">\n  <thead>\n    <tr style=\"text-align: right;\">\n      <th></th>\n      <th>olympic_games</th>\n      <th>number_countries</th>\n    </tr>\n  </thead>\n  <tbody>\n    <tr>\n      <th>0</th>\n      <td>1896 Summer</td>\n      <td>12</td>\n    </tr>\n    <tr>\n      <th>1</th>\n      <td>1900 Summer</td>\n      <td>31</td>\n    </tr>\n    <tr>\n      <th>2</th>\n      <td>1904 Summer</td>\n      <td>14</td>\n    </tr>\n    <tr>\n      <th>3</th>\n      <td>1906 Summer</td>\n      <td>20</td>\n    </tr>\n    <tr>\n      <th>4</th>\n      <td>1908 Summer</td>\n      <td>22</td>\n    </tr>\n    <tr>\n      <th>5</th>\n      <td>1912 Summer</td>\n      <td>29</td>\n    </tr>\n    <tr>\n      <th>6</th>\n      <td>1920 Summer</td>\n      <td>29</td>\n    </tr>\n    <tr>\n      <th>7</th>\n      <td>1924 Summer</td>\n      <td>45</td>\n    </tr>\n    <tr>\n      <th>8</th>\n      <td>1924 Winter</td>\n      <td>19</td>\n    </tr>\n    <tr>\n      <th>9</th>\n      <td>1928 Summer</td>\n      <td>46</td>\n    </tr>\n    <tr>\n      <th>10</th>\n      <td>1928 Winter</td>\n      <td>25</td>\n    </tr>\n    <tr>\n      <th>11</th>\n      <td>1932 Summer</td>\n      <td>47</td>\n    </tr>\n    <tr>\n      <th>12</th>\n      <td>1932 Winter</td>\n      <td>17</td>\n    </tr>\n    <tr>\n      <th>13</th>\n      <td>1936 Summer</td>\n      <td>49</td>\n    </tr>\n    <tr>\n      <th>14</th>\n      <td>1936 Winter</td>\n      <td>28</td>\n    </tr>\n    <tr>\n      <th>15</th>\n      <td>1948 Summer</td>\n      <td>58</td>\n    </tr>\n    <tr>\n      <th>16</th>\n      <td>1948 Winter</td>\n      <td>28</td>\n    </tr>\n    <tr>\n      <th>17</th>\n      <td>1952 Summer</td>\n      <td>66</td>\n    </tr>\n    <tr>\n      <th>18</th>\n      <td>1952 Winter</td>\n      <td>30</td>\n    </tr>\n    <tr>\n      <th>19</th>\n      <td>1956 Summer</td>\n      <td>70</td>\n    </tr>\n    <tr>\n      <th>20</th>\n      <td>1956 Winter</td>\n      <td>32</td>\n    </tr>\n    <tr>\n      <th>21</th>\n      <td>1960 Summer</td>\n      <td>82</td>\n    </tr>\n    <tr>\n      <th>22</th>\n      <td>1960 Winter</td>\n      <td>30</td>\n    </tr>\n    <tr>\n      <th>23</th>\n      <td>1964 Summer</td>\n      <td>93</td>\n    </tr>\n    <tr>\n      <th>24</th>\n      <td>1964 Winter</td>\n      <td>36</td>\n    </tr>\n    <tr>\n      <th>25</th>\n      <td>1968 Summer</td>\n      <td>110</td>\n    </tr>\n    <tr>\n      <th>26</th>\n      <td>1968 Winter</td>\n      <td>36</td>\n    </tr>\n    <tr>\n      <th>27</th>\n      <td>1972 Summer</td>\n      <td>119</td>\n    </tr>\n    <tr>\n      <th>28</th>\n      <td>1972 Winter</td>\n      <td>34</td>\n    </tr>\n    <tr>\n      <th>29</th>\n      <td>1976 Summer</td>\n      <td>90</td>\n    </tr>\n    <tr>\n      <th>30</th>\n      <td>1976 Winter</td>\n      <td>36</td>\n    </tr>\n    <tr>\n      <th>31</th>\n      <td>1980 Summer</td>\n      <td>80</td>\n    </tr>\n    <tr>\n      <th>32</th>\n      <td>1980 Winter</td>\n      <td>36</td>\n    </tr>\n    <tr>\n      <th>33</th>\n      <td>1984 Summer</td>\n      <td>138</td>\n    </tr>\n    <tr>\n      <th>34</th>\n      <td>1984 Winter</td>\n      <td>48</td>\n    </tr>\n    <tr>\n      <th>35</th>\n      <td>1988 Summer</td>\n      <td>155</td>\n    </tr>\n    <tr>\n      <th>36</th>\n      <td>1988 Winter</td>\n      <td>56</td>\n    </tr>\n    <tr>\n      <th>37</th>\n      <td>1992 Summer</td>\n      <td>167</td>\n    </tr>\n    <tr>\n      <th>38</th>\n      <td>1992 Winter</td>\n      <td>64</td>\n    </tr>\n    <tr>\n      <th>39</th>\n      <td>1994 Winter</td>\n      <td>67</td>\n    </tr>\n    <tr>\n      <th>40</th>\n      <td>1996 Summer</td>\n      <td>195</td>\n    </tr>\n    <tr>\n      <th>41</th>\n      <td>1998 Winter</td>\n      <td>72</td>\n    </tr>\n    <tr>\n      <th>42</th>\n      <td>2000 Summer</td>\n      <td>198</td>\n    </tr>\n    <tr>\n      <th>43</th>\n      <td>2002 Winter</td>\n      <td>76</td>\n    </tr>\n    <tr>\n      <th>44</th>\n      <td>2004 Summer</td>\n      <td>199</td>\n    </tr>\n    <tr>\n      <th>45</th>\n      <td>2006 Winter</td>\n      <td>78</td>\n    </tr>\n    <tr>\n      <th>46</th>\n      <td>2008 Summer</td>\n      <td>202</td>\n    </tr>\n    <tr>\n      <th>47</th>\n      <td>2010 Winter</td>\n      <td>81</td>\n    </tr>\n    <tr>\n      <th>48</th>\n      <td>2012 Summer</td>\n      <td>203</td>\n    </tr>\n    <tr>\n      <th>49</th>\n      <td>2014 Winter</td>\n      <td>88</td>\n    </tr>\n    <tr>\n      <th>50</th>\n      <td>2016 Summer</td>\n      <td>204</td>\n    </tr>\n  </tbody>\n</table>\n</div>"
     },
     "metadata": {}
    }
   ]
  },
  {
   "cell_type": "markdown",
   "source": "### Ranking of every olympic games, according to the number of countries that participated",
   "metadata": {
    "formattedRanges": [],
    "cell_id": "55e143406fca43258f017da77033eea5",
    "tags": [],
    "is_collapsed": false,
    "deepnote_cell_type": "text-cell-h3"
   }
  },
  {
   "cell_type": "code",
   "metadata": {
    "tags": [],
    "sql_integration_id": "deepnote-dataframe-sql",
    "cell_id": "449e0e12957e429d8686896547e7eabb",
    "deepnote_to_be_reexecuted": false,
    "source_hash": "b87487c8",
    "execution_start": 1658874496722,
    "execution_millis": 1037,
    "output_cleared": false,
    "deepnote_sql_source": "SELECT \n    DISTINCT ae.games AS olympic_games,\n    COUNT(DISTINCT nr.column1) AS number_countries,\n    RANK() OVER(ORDER BY COUNT(DISTINCT nr.column1)DESC) AS ranking\n\nFROM athlete_events ae\nLEFT JOIN noc_regions nr ON nr.column0 = ae.noc\n\nGROUP BY games\nORDER BY games DESC",
    "deepnote_variable_name": "ranking_games",
    "deepnote_table_state": {
     "pageSize": 10,
     "pageIndex": 0,
     "filters": [],
     "sortBy": []
    },
    "deepnote_table_loading": false,
    "deepnote_cell_type": "sql",
    "deepnote_cell_height": 802
   },
   "source": "\n\nranking_games = _deepnote_execute_sql(\"\"\"SELECT \n    DISTINCT ae.games AS olympic_games,\n    COUNT(DISTINCT nr.column1) AS number_countries,\n    RANK() OVER(ORDER BY COUNT(DISTINCT nr.column1)DESC) AS ranking\n\nFROM athlete_events ae\nLEFT JOIN noc_regions nr ON nr.column0 = ae.noc\n\nGROUP BY games\nORDER BY games DESC\n\"\"\", 'SQL_DEEPNOTE_DATAFRAME_SQL')\nranking_games",
   "execution_count": 68,
   "outputs": [
    {
     "output_type": "execute_result",
     "execution_count": 68,
     "data": {
      "application/vnd.deepnote.dataframe.v3+json": {
       "column_count": 3,
       "row_count": 51,
       "columns": [
        {
         "name": "olympic_games",
         "dtype": "object",
         "stats": {
          "unique_count": 51,
          "nan_count": 0,
          "categories": [
           {
            "name": "2016 Summer",
            "count": 1
           },
           {
            "name": "2014 Winter",
            "count": 1
           },
           {
            "name": "49 others",
            "count": 49
           }
          ]
         }
        },
        {
         "name": "number_countries",
         "dtype": "int64",
         "stats": {
          "unique_count": 45,
          "nan_count": 0,
          "min": "12",
          "max": "204",
          "histogram": [
           {
            "bin_start": 12,
            "bin_end": 31.2,
            "count": 14
           },
           {
            "bin_start": 31.2,
            "bin_end": 50.4,
            "count": 11
           },
           {
            "bin_start": 50.4,
            "bin_end": 69.6,
            "count": 5
           },
           {
            "bin_start": 69.6,
            "bin_end": 88.8,
            "count": 8
           },
           {
            "bin_start": 88.8,
            "bin_end": 108,
            "count": 2
           },
           {
            "bin_start": 108,
            "bin_end": 127.19999999999999,
            "count": 2
           },
           {
            "bin_start": 127.19999999999999,
            "bin_end": 146.4,
            "count": 1
           },
           {
            "bin_start": 146.4,
            "bin_end": 165.6,
            "count": 1
           },
           {
            "bin_start": 165.6,
            "bin_end": 184.79999999999998,
            "count": 1
           },
           {
            "bin_start": 184.79999999999998,
            "bin_end": 204,
            "count": 6
           }
          ]
         }
        },
        {
         "name": "ranking",
         "dtype": "int64",
         "stats": {
          "unique_count": 45,
          "nan_count": 0,
          "min": "1",
          "max": "51",
          "histogram": [
           {
            "bin_start": 1,
            "bin_end": 6,
            "count": 5
           },
           {
            "bin_start": 6,
            "bin_end": 11,
            "count": 5
           },
           {
            "bin_start": 11,
            "bin_end": 16,
            "count": 5
           },
           {
            "bin_start": 16,
            "bin_end": 21,
            "count": 5
           },
           {
            "bin_start": 21,
            "bin_end": 26,
            "count": 5
           },
           {
            "bin_start": 26,
            "bin_end": 31,
            "count": 5
           },
           {
            "bin_start": 31,
            "bin_end": 36,
            "count": 5
           },
           {
            "bin_start": 36,
            "bin_end": 41,
            "count": 5
           },
           {
            "bin_start": 41,
            "bin_end": 46,
            "count": 5
           },
           {
            "bin_start": 46,
            "bin_end": 51,
            "count": 6
           }
          ]
         }
        },
        {
         "name": "_deepnote_index_column",
         "dtype": "int64"
        }
       ],
       "rows": [
        {
         "olympic_games": "2016 Summer",
         "number_countries": 204,
         "ranking": 1,
         "_deepnote_index_column": 0
        },
        {
         "olympic_games": "2014 Winter",
         "number_countries": 88,
         "ranking": 14,
         "_deepnote_index_column": 1
        },
        {
         "olympic_games": "2012 Summer",
         "number_countries": 203,
         "ranking": 2,
         "_deepnote_index_column": 2
        },
        {
         "olympic_games": "2010 Winter",
         "number_countries": 81,
         "ranking": 16,
         "_deepnote_index_column": 3
        },
        {
         "olympic_games": "2008 Summer",
         "number_countries": 202,
         "ranking": 3,
         "_deepnote_index_column": 4
        },
        {
         "olympic_games": "2006 Winter",
         "number_countries": 78,
         "ranking": 18,
         "_deepnote_index_column": 5
        },
        {
         "olympic_games": "2004 Summer",
         "number_countries": 199,
         "ranking": 4,
         "_deepnote_index_column": 6
        },
        {
         "olympic_games": "2002 Winter",
         "number_countries": 76,
         "ranking": 19,
         "_deepnote_index_column": 7
        },
        {
         "olympic_games": "2000 Summer",
         "number_countries": 198,
         "ranking": 5,
         "_deepnote_index_column": 8
        },
        {
         "olympic_games": "1998 Winter",
         "number_countries": 72,
         "ranking": 20,
         "_deepnote_index_column": 9
        }
       ]
      },
      "text/plain": "   olympic_games  number_countries  ranking\n0    2016 Summer               204        1\n1    2014 Winter                88       14\n2    2012 Summer               203        2\n3    2010 Winter                81       16\n4    2008 Summer               202        3\n5    2006 Winter                78       18\n6    2004 Summer               199        4\n7    2002 Winter                76       19\n8    2000 Summer               198        5\n9    1998 Winter                72       20\n10   1996 Summer               195        6\n11   1994 Winter                67       22\n12   1992 Winter                64       24\n13   1992 Summer               167        7\n14   1988 Winter                56       26\n15   1988 Summer               155        8\n16   1984 Winter                48       28\n17   1984 Summer               138        9\n18   1980 Winter                36       32\n19   1980 Summer                80       17\n20   1976 Winter                36       32\n21   1976 Summer                90       13\n22   1972 Winter                34       36\n23   1972 Summer               119       10\n24   1968 Winter                36       32\n25   1968 Summer               110       11\n26   1964 Winter                36       32\n27   1964 Summer                93       12\n28   1960 Winter                30       39\n29   1960 Summer                82       15\n30   1956 Winter                32       37\n31   1956 Summer                70       21\n32   1952 Winter                30       39\n33   1952 Summer                66       23\n34   1948 Winter                28       43\n35   1948 Summer                58       25\n36   1936 Winter                28       43\n37   1936 Summer                49       27\n38   1932 Winter                17       49\n39   1932 Summer                47       29\n40   1928 Winter                25       45\n41   1928 Summer                46       30\n42   1924 Winter                19       48\n43   1924 Summer                45       31\n44   1920 Summer                29       41\n45   1912 Summer                29       41\n46   1908 Summer                22       46\n47   1906 Summer                20       47\n48   1904 Summer                14       50\n49   1900 Summer                31       38\n50   1896 Summer                12       51",
      "text/html": "<div>\n<style scoped>\n    .dataframe tbody tr th:only-of-type {\n        vertical-align: middle;\n    }\n\n    .dataframe tbody tr th {\n        vertical-align: top;\n    }\n\n    .dataframe thead th {\n        text-align: right;\n    }\n</style>\n<table border=\"1\" class=\"dataframe\">\n  <thead>\n    <tr style=\"text-align: right;\">\n      <th></th>\n      <th>olympic_games</th>\n      <th>number_countries</th>\n      <th>ranking</th>\n    </tr>\n  </thead>\n  <tbody>\n    <tr>\n      <th>0</th>\n      <td>2016 Summer</td>\n      <td>204</td>\n      <td>1</td>\n    </tr>\n    <tr>\n      <th>1</th>\n      <td>2014 Winter</td>\n      <td>88</td>\n      <td>14</td>\n    </tr>\n    <tr>\n      <th>2</th>\n      <td>2012 Summer</td>\n      <td>203</td>\n      <td>2</td>\n    </tr>\n    <tr>\n      <th>3</th>\n      <td>2010 Winter</td>\n      <td>81</td>\n      <td>16</td>\n    </tr>\n    <tr>\n      <th>4</th>\n      <td>2008 Summer</td>\n      <td>202</td>\n      <td>3</td>\n    </tr>\n    <tr>\n      <th>5</th>\n      <td>2006 Winter</td>\n      <td>78</td>\n      <td>18</td>\n    </tr>\n    <tr>\n      <th>6</th>\n      <td>2004 Summer</td>\n      <td>199</td>\n      <td>4</td>\n    </tr>\n    <tr>\n      <th>7</th>\n      <td>2002 Winter</td>\n      <td>76</td>\n      <td>19</td>\n    </tr>\n    <tr>\n      <th>8</th>\n      <td>2000 Summer</td>\n      <td>198</td>\n      <td>5</td>\n    </tr>\n    <tr>\n      <th>9</th>\n      <td>1998 Winter</td>\n      <td>72</td>\n      <td>20</td>\n    </tr>\n    <tr>\n      <th>10</th>\n      <td>1996 Summer</td>\n      <td>195</td>\n      <td>6</td>\n    </tr>\n    <tr>\n      <th>11</th>\n      <td>1994 Winter</td>\n      <td>67</td>\n      <td>22</td>\n    </tr>\n    <tr>\n      <th>12</th>\n      <td>1992 Winter</td>\n      <td>64</td>\n      <td>24</td>\n    </tr>\n    <tr>\n      <th>13</th>\n      <td>1992 Summer</td>\n      <td>167</td>\n      <td>7</td>\n    </tr>\n    <tr>\n      <th>14</th>\n      <td>1988 Winter</td>\n      <td>56</td>\n      <td>26</td>\n    </tr>\n    <tr>\n      <th>15</th>\n      <td>1988 Summer</td>\n      <td>155</td>\n      <td>8</td>\n    </tr>\n    <tr>\n      <th>16</th>\n      <td>1984 Winter</td>\n      <td>48</td>\n      <td>28</td>\n    </tr>\n    <tr>\n      <th>17</th>\n      <td>1984 Summer</td>\n      <td>138</td>\n      <td>9</td>\n    </tr>\n    <tr>\n      <th>18</th>\n      <td>1980 Winter</td>\n      <td>36</td>\n      <td>32</td>\n    </tr>\n    <tr>\n      <th>19</th>\n      <td>1980 Summer</td>\n      <td>80</td>\n      <td>17</td>\n    </tr>\n    <tr>\n      <th>20</th>\n      <td>1976 Winter</td>\n      <td>36</td>\n      <td>32</td>\n    </tr>\n    <tr>\n      <th>21</th>\n      <td>1976 Summer</td>\n      <td>90</td>\n      <td>13</td>\n    </tr>\n    <tr>\n      <th>22</th>\n      <td>1972 Winter</td>\n      <td>34</td>\n      <td>36</td>\n    </tr>\n    <tr>\n      <th>23</th>\n      <td>1972 Summer</td>\n      <td>119</td>\n      <td>10</td>\n    </tr>\n    <tr>\n      <th>24</th>\n      <td>1968 Winter</td>\n      <td>36</td>\n      <td>32</td>\n    </tr>\n    <tr>\n      <th>25</th>\n      <td>1968 Summer</td>\n      <td>110</td>\n      <td>11</td>\n    </tr>\n    <tr>\n      <th>26</th>\n      <td>1964 Winter</td>\n      <td>36</td>\n      <td>32</td>\n    </tr>\n    <tr>\n      <th>27</th>\n      <td>1964 Summer</td>\n      <td>93</td>\n      <td>12</td>\n    </tr>\n    <tr>\n      <th>28</th>\n      <td>1960 Winter</td>\n      <td>30</td>\n      <td>39</td>\n    </tr>\n    <tr>\n      <th>29</th>\n      <td>1960 Summer</td>\n      <td>82</td>\n      <td>15</td>\n    </tr>\n    <tr>\n      <th>30</th>\n      <td>1956 Winter</td>\n      <td>32</td>\n      <td>37</td>\n    </tr>\n    <tr>\n      <th>31</th>\n      <td>1956 Summer</td>\n      <td>70</td>\n      <td>21</td>\n    </tr>\n    <tr>\n      <th>32</th>\n      <td>1952 Winter</td>\n      <td>30</td>\n      <td>39</td>\n    </tr>\n    <tr>\n      <th>33</th>\n      <td>1952 Summer</td>\n      <td>66</td>\n      <td>23</td>\n    </tr>\n    <tr>\n      <th>34</th>\n      <td>1948 Winter</td>\n      <td>28</td>\n      <td>43</td>\n    </tr>\n    <tr>\n      <th>35</th>\n      <td>1948 Summer</td>\n      <td>58</td>\n      <td>25</td>\n    </tr>\n    <tr>\n      <th>36</th>\n      <td>1936 Winter</td>\n      <td>28</td>\n      <td>43</td>\n    </tr>\n    <tr>\n      <th>37</th>\n      <td>1936 Summer</td>\n      <td>49</td>\n      <td>27</td>\n    </tr>\n    <tr>\n      <th>38</th>\n      <td>1932 Winter</td>\n      <td>17</td>\n      <td>49</td>\n    </tr>\n    <tr>\n      <th>39</th>\n      <td>1932 Summer</td>\n      <td>47</td>\n      <td>29</td>\n    </tr>\n    <tr>\n      <th>40</th>\n      <td>1928 Winter</td>\n      <td>25</td>\n      <td>45</td>\n    </tr>\n    <tr>\n      <th>41</th>\n      <td>1928 Summer</td>\n      <td>46</td>\n      <td>30</td>\n    </tr>\n    <tr>\n      <th>42</th>\n      <td>1924 Winter</td>\n      <td>19</td>\n      <td>48</td>\n    </tr>\n    <tr>\n      <th>43</th>\n      <td>1924 Summer</td>\n      <td>45</td>\n      <td>31</td>\n    </tr>\n    <tr>\n      <th>44</th>\n      <td>1920 Summer</td>\n      <td>29</td>\n      <td>41</td>\n    </tr>\n    <tr>\n      <th>45</th>\n      <td>1912 Summer</td>\n      <td>29</td>\n      <td>41</td>\n    </tr>\n    <tr>\n      <th>46</th>\n      <td>1908 Summer</td>\n      <td>22</td>\n      <td>46</td>\n    </tr>\n    <tr>\n      <th>47</th>\n      <td>1906 Summer</td>\n      <td>20</td>\n      <td>47</td>\n    </tr>\n    <tr>\n      <th>48</th>\n      <td>1904 Summer</td>\n      <td>14</td>\n      <td>50</td>\n    </tr>\n    <tr>\n      <th>49</th>\n      <td>1900 Summer</td>\n      <td>31</td>\n      <td>38</td>\n    </tr>\n    <tr>\n      <th>50</th>\n      <td>1896 Summer</td>\n      <td>12</td>\n      <td>51</td>\n    </tr>\n  </tbody>\n</table>\n</div>"
     },
     "metadata": {}
    }
   ]
  },
  {
   "cell_type": "markdown",
   "source": "### Which games saw the highest and lowest No. of countries participating in olympics?",
   "metadata": {
    "formattedRanges": [],
    "cell_id": "90530da8a1024bd786b1e4fdecc9c595",
    "tags": [],
    "is_collapsed": false,
    "deepnote_cell_type": "text-cell-h3"
   }
  },
  {
   "cell_type": "code",
   "metadata": {
    "tags": [],
    "deepnote_variable_name": "most_least_countries",
    "sql_integration_id": "deepnote-dataframe-sql",
    "cell_id": "e47ba6c39f46412784b868e8f659d02d",
    "deepnote_to_be_reexecuted": false,
    "source_hash": "b03ef9e9",
    "execution_start": 1658873808765,
    "execution_millis": 702,
    "output_cleared": false,
    "deepnote_sql_source": "WITH games_countries AS (\n\n    SELECT \n        ae.games AS games,\n        nr.column1 AS country\n    FROM \n        athlete_events ae\n    JOIN noc_regions nr ON ae.noc = nr.column0\n    GROUP BY ae.games, nr.column1\n),\n\n    number_countries AS (\n\n    SELECT \n        games,\n        COUNT(country) AS number_countries\n    FROM\n        games_countries\n    GROUP BY games\n    )\n\nSELECT DISTINCT\n    CONCAT(FIRST_VALUE(games) OVER(ORDER BY number_countries), ' - ' ,FIRST_VALUE(number_countries) OVER(ORDER BY number_countries), ' countries') AS least_countries,\n    CONCAT(FIRST_VALUE(games) OVER(ORDER BY number_countries DESC), ' - ', FIRST_VALUE(number_countries) OVER(ORDER BY number_countries DESC),' countries') AS most_countries\nFROM\n    number_countries \n",
    "deepnote_cell_type": "sql",
    "deepnote_cell_height": 739,
    "deepnote_output_heights": [
     607
    ]
   },
   "source": "\n\nmost_least_countries = _deepnote_execute_sql(\"\"\"WITH games_countries AS (\n\n    SELECT \n        ae.games AS games,\n        nr.column1 AS country\n    FROM \n        athlete_events ae\n    JOIN noc_regions nr ON ae.noc = nr.column0\n    GROUP BY ae.games, nr.column1\n),\n\n    number_countries AS (\n\n    SELECT \n        games,\n        COUNT(country) AS number_countries\n    FROM\n        games_countries\n    GROUP BY games\n    )\n\nSELECT DISTINCT\n    CONCAT(FIRST_VALUE(games) OVER(ORDER BY number_countries), ' - ' ,FIRST_VALUE(number_countries) OVER(ORDER BY number_countries), ' countries') AS least_countries,\n    CONCAT(FIRST_VALUE(games) OVER(ORDER BY number_countries DESC), ' - ', FIRST_VALUE(number_countries) OVER(ORDER BY number_countries DESC),' countries') AS most_countries\nFROM\n    number_countries \n\n\"\"\", 'SQL_DEEPNOTE_DATAFRAME_SQL')\nmost_least_countries",
   "execution_count": 63,
   "outputs": [
    {
     "output_type": "execute_result",
     "execution_count": 63,
     "data": {
      "application/vnd.deepnote.dataframe.v3+json": {
       "column_count": 2,
       "row_count": 1,
       "columns": [
        {
         "name": "least_countries",
         "dtype": "object",
         "stats": {
          "unique_count": 1,
          "nan_count": 0,
          "categories": [
           {
            "name": "1896 Summer - 12 countries",
            "count": 1
           }
          ]
         }
        },
        {
         "name": "most_countries",
         "dtype": "object",
         "stats": {
          "unique_count": 1,
          "nan_count": 0,
          "categories": [
           {
            "name": "2016 Summer - 204 countries",
            "count": 1
           }
          ]
         }
        },
        {
         "name": "_deepnote_index_column",
         "dtype": "int64"
        }
       ],
       "rows": [
        {
         "least_countries": "1896 Summer - 12 countries",
         "most_countries": "2016 Summer - 204 countries",
         "_deepnote_index_column": 0
        }
       ]
      },
      "text/plain": "              least_countries               most_countries\n0  1896 Summer - 12 countries  2016 Summer - 204 countries",
      "text/html": "<div>\n<style scoped>\n    .dataframe tbody tr th:only-of-type {\n        vertical-align: middle;\n    }\n\n    .dataframe tbody tr th {\n        vertical-align: top;\n    }\n\n    .dataframe thead th {\n        text-align: right;\n    }\n</style>\n<table border=\"1\" class=\"dataframe\">\n  <thead>\n    <tr style=\"text-align: right;\">\n      <th></th>\n      <th>least_countries</th>\n      <th>most_countries</th>\n    </tr>\n  </thead>\n  <tbody>\n    <tr>\n      <th>0</th>\n      <td>1896 Summer - 12 countries</td>\n      <td>2016 Summer - 204 countries</td>\n    </tr>\n  </tbody>\n</table>\n</div>"
     },
     "metadata": {}
    }
   ]
  },
  {
   "cell_type": "markdown",
   "source": "### Nations that participated in all olympic games",
   "metadata": {
    "formattedRanges": [],
    "cell_id": "bfd2554cf3654bbbbe78de9060604dfc",
    "tags": [],
    "is_collapsed": false,
    "deepnote_cell_type": "text-cell-h3"
   }
  },
  {
   "cell_type": "markdown",
   "source": "#### If we have the value of total number of olympic games.",
   "metadata": {
    "cell_id": "03590c34da604109af67e36c6e0444f9",
    "tags": [],
    "is_collapsed": false,
    "formattedRanges": [],
    "deepnote_cell_type": "markdown",
    "deepnote_cell_height": 54
   }
  },
  {
   "cell_type": "code",
   "metadata": {
    "tags": [],
    "deepnote_variable_name": "countries_all_games1",
    "sql_integration_id": "deepnote-dataframe-sql",
    "cell_id": "8b73fc2a51534ebdab55d4a390ff5452",
    "deepnote_to_be_reexecuted": false,
    "source_hash": "d37967f0",
    "execution_start": 1658874679141,
    "execution_millis": 223,
    "deepnote_table_state": {
     "pageSize": 10,
     "pageIndex": 0,
     "filters": [],
     "sortBy": []
    },
    "deepnote_table_loading": false,
    "deepnote_sql_source": "SELECT \n    nr.column1 AS countries,\n    COUNT(DISTINCT ae.games) AS olympic_games\n\nFROM athlete_events ae\nLEFT JOIN noc_regions nr ON nr.column0 = ae.noc\n\nGROUP BY nr.column1\n\nHAVING COUNT(DISTINCT ae.games) = 51",
    "owner_user_id": "a75a09da-af1d-43d3-afa9-7caf9a44a34e",
    "deepnote_cell_type": "sql",
    "deepnote_cell_height": 556
   },
   "source": "\n\ncountries_all_games1 = _deepnote_execute_sql(\"\"\"SELECT \n    nr.column1 AS countries,\n    COUNT(DISTINCT ae.games) AS olympic_games\n\nFROM athlete_events ae\nLEFT JOIN noc_regions nr ON nr.column0 = ae.noc\n\nGROUP BY nr.column1\n\nHAVING COUNT(DISTINCT ae.games) = 51\n\"\"\", 'SQL_DEEPNOTE_DATAFRAME_SQL')\ncountries_all_games1",
   "execution_count": 69,
   "outputs": [
    {
     "output_type": "execute_result",
     "execution_count": 69,
     "data": {
      "application/vnd.deepnote.dataframe.v3+json": {
       "column_count": 2,
       "row_count": 4,
       "columns": [
        {
         "name": "countries",
         "dtype": "object",
         "stats": {
          "unique_count": 4,
          "nan_count": 0,
          "categories": [
           {
            "name": "France",
            "count": 1
           },
           {
            "name": "Italy",
            "count": 1
           },
           {
            "name": "2 others",
            "count": 2
           }
          ]
         }
        },
        {
         "name": "olympic_games",
         "dtype": "int64",
         "stats": {
          "unique_count": 1,
          "nan_count": 0,
          "min": "51",
          "max": "51",
          "histogram": [
           {
            "bin_start": 50.5,
            "bin_end": 50.6,
            "count": 0
           },
           {
            "bin_start": 50.6,
            "bin_end": 50.7,
            "count": 0
           },
           {
            "bin_start": 50.7,
            "bin_end": 50.8,
            "count": 0
           },
           {
            "bin_start": 50.8,
            "bin_end": 50.9,
            "count": 0
           },
           {
            "bin_start": 50.9,
            "bin_end": 51,
            "count": 0
           },
           {
            "bin_start": 51,
            "bin_end": 51.1,
            "count": 4
           },
           {
            "bin_start": 51.1,
            "bin_end": 51.2,
            "count": 0
           },
           {
            "bin_start": 51.2,
            "bin_end": 51.3,
            "count": 0
           },
           {
            "bin_start": 51.3,
            "bin_end": 51.4,
            "count": 0
           },
           {
            "bin_start": 51.4,
            "bin_end": 51.5,
            "count": 0
           }
          ]
         }
        },
        {
         "name": "_deepnote_index_column",
         "dtype": "int64"
        }
       ],
       "rows": [
        {
         "countries": "France",
         "olympic_games": 51,
         "_deepnote_index_column": 0
        },
        {
         "countries": "Italy",
         "olympic_games": 51,
         "_deepnote_index_column": 1
        },
        {
         "countries": "Switzerland",
         "olympic_games": 51,
         "_deepnote_index_column": 2
        },
        {
         "countries": "UK",
         "olympic_games": 51,
         "_deepnote_index_column": 3
        }
       ]
      },
      "text/plain": "     countries  olympic_games\n0       France             51\n1        Italy             51\n2  Switzerland             51\n3           UK             51",
      "text/html": "<div>\n<style scoped>\n    .dataframe tbody tr th:only-of-type {\n        vertical-align: middle;\n    }\n\n    .dataframe tbody tr th {\n        vertical-align: top;\n    }\n\n    .dataframe thead th {\n        text-align: right;\n    }\n</style>\n<table border=\"1\" class=\"dataframe\">\n  <thead>\n    <tr style=\"text-align: right;\">\n      <th></th>\n      <th>countries</th>\n      <th>olympic_games</th>\n    </tr>\n  </thead>\n  <tbody>\n    <tr>\n      <th>0</th>\n      <td>France</td>\n      <td>51</td>\n    </tr>\n    <tr>\n      <th>1</th>\n      <td>Italy</td>\n      <td>51</td>\n    </tr>\n    <tr>\n      <th>2</th>\n      <td>Switzerland</td>\n      <td>51</td>\n    </tr>\n    <tr>\n      <th>3</th>\n      <td>UK</td>\n      <td>51</td>\n    </tr>\n  </tbody>\n</table>\n</div>"
     },
     "metadata": {}
    }
   ]
  },
  {
   "cell_type": "markdown",
   "source": "##### Without having the value of total number of olympic games",
   "metadata": {
    "cell_id": "a158d7175992472cbdbfe2d384ef7577",
    "tags": [],
    "deepnote_cell_type": "markdown",
    "deepnote_cell_height": 54
   }
  },
  {
   "cell_type": "code",
   "metadata": {
    "tags": [],
    "deepnote_variable_name": "countries_all_games2",
    "sql_integration_id": "deepnote-dataframe-sql",
    "cell_id": "1afe416eec714d5eaef652b36dc8b4d2",
    "deepnote_to_be_reexecuted": false,
    "source_hash": "dd9e762",
    "execution_start": 1658874682339,
    "execution_millis": 367,
    "deepnote_sql_source": "WITH total_games AS (\n\n    SELECT \n        COUNT (DISTINCT games) AS total_games \n        FROM athlete_events\n    ),\n\n    games_countries AS (\n    \n    SELECT \n        ae.games AS games,\n        nr.column1 AS country\n\n        FROM athlete_events ae\n        JOIN noc_regions nr ON nr.column0=ae.noc\n        GROUP BY games, nr.column1\n    ),\n\n    countries_participations AS (\n\n    SELECT \n    country AS country,\n    COUNT(*) AS number_games\n\n    FROM games_countries\n\n    GROUP BY country   \n)\n\nSELECT cp.country, cp.number_games\nFROM countries_participations cp\nJOIN total_games tg ON cp.number_games = tg.total_games",
    "output_cleared": false,
    "deepnote_cell_type": "sql",
    "deepnote_cell_height": 952
   },
   "source": "\n\ncountries_all_games2 = _deepnote_execute_sql(\"\"\"WITH total_games AS (\n\n    SELECT \n        COUNT (DISTINCT games) AS total_games \n        FROM athlete_events\n    ),\n\n    games_countries AS (\n    \n    SELECT \n        ae.games AS games,\n        nr.column1 AS country\n\n        FROM athlete_events ae\n        JOIN noc_regions nr ON nr.column0=ae.noc\n        GROUP BY games, nr.column1\n    ),\n\n    countries_participations AS (\n\n    SELECT \n    country AS country,\n    COUNT(*) AS number_games\n\n    FROM games_countries\n\n    GROUP BY country   \n)\n\nSELECT cp.country, cp.number_games\nFROM countries_participations cp\nJOIN total_games tg ON cp.number_games = tg.total_games\n\"\"\", 'SQL_DEEPNOTE_DATAFRAME_SQL')\ncountries_all_games2",
   "execution_count": 70,
   "outputs": [
    {
     "output_type": "execute_result",
     "execution_count": 70,
     "data": {
      "application/vnd.deepnote.dataframe.v3+json": {
       "column_count": 2,
       "row_count": 4,
       "columns": [
        {
         "name": "country",
         "dtype": "object",
         "stats": {
          "unique_count": 4,
          "nan_count": 0,
          "categories": [
           {
            "name": "France",
            "count": 1
           },
           {
            "name": "Italy",
            "count": 1
           },
           {
            "name": "2 others",
            "count": 2
           }
          ]
         }
        },
        {
         "name": "number_games",
         "dtype": "int64",
         "stats": {
          "unique_count": 1,
          "nan_count": 0,
          "min": "51",
          "max": "51",
          "histogram": [
           {
            "bin_start": 50.5,
            "bin_end": 50.6,
            "count": 0
           },
           {
            "bin_start": 50.6,
            "bin_end": 50.7,
            "count": 0
           },
           {
            "bin_start": 50.7,
            "bin_end": 50.8,
            "count": 0
           },
           {
            "bin_start": 50.8,
            "bin_end": 50.9,
            "count": 0
           },
           {
            "bin_start": 50.9,
            "bin_end": 51,
            "count": 0
           },
           {
            "bin_start": 51,
            "bin_end": 51.1,
            "count": 4
           },
           {
            "bin_start": 51.1,
            "bin_end": 51.2,
            "count": 0
           },
           {
            "bin_start": 51.2,
            "bin_end": 51.3,
            "count": 0
           },
           {
            "bin_start": 51.3,
            "bin_end": 51.4,
            "count": 0
           },
           {
            "bin_start": 51.4,
            "bin_end": 51.5,
            "count": 0
           }
          ]
         }
        },
        {
         "name": "_deepnote_index_column",
         "dtype": "int64"
        }
       ],
       "rows": [
        {
         "country": "France",
         "number_games": 51,
         "_deepnote_index_column": 0
        },
        {
         "country": "Italy",
         "number_games": 51,
         "_deepnote_index_column": 1
        },
        {
         "country": "Switzerland",
         "number_games": 51,
         "_deepnote_index_column": 2
        },
        {
         "country": "UK",
         "number_games": 51,
         "_deepnote_index_column": 3
        }
       ]
      },
      "text/plain": "       country  number_games\n0       France            51\n1        Italy            51\n2  Switzerland            51\n3           UK            51",
      "text/html": "<div>\n<style scoped>\n    .dataframe tbody tr th:only-of-type {\n        vertical-align: middle;\n    }\n\n    .dataframe tbody tr th {\n        vertical-align: top;\n    }\n\n    .dataframe thead th {\n        text-align: right;\n    }\n</style>\n<table border=\"1\" class=\"dataframe\">\n  <thead>\n    <tr style=\"text-align: right;\">\n      <th></th>\n      <th>country</th>\n      <th>number_games</th>\n    </tr>\n  </thead>\n  <tbody>\n    <tr>\n      <th>0</th>\n      <td>France</td>\n      <td>51</td>\n    </tr>\n    <tr>\n      <th>1</th>\n      <td>Italy</td>\n      <td>51</td>\n    </tr>\n    <tr>\n      <th>2</th>\n      <td>Switzerland</td>\n      <td>51</td>\n    </tr>\n    <tr>\n      <th>3</th>\n      <td>UK</td>\n      <td>51</td>\n    </tr>\n  </tbody>\n</table>\n</div>"
     },
     "metadata": {}
    }
   ]
  },
  {
   "cell_type": "code",
   "metadata": {
    "cell_id": "bb0363f430d949b2bbc3b093088fd551",
    "tags": [],
    "deepnote_to_be_reexecuted": false,
    "source_hash": "307d6e5e",
    "execution_start": 1658875042091,
    "execution_millis": 808,
    "deepnote_cell_type": "code",
    "deepnote_cell_height": 617
   },
   "source": "athlete_events",
   "execution_count": 73,
   "outputs": [
    {
     "output_type": "execute_result",
     "execution_count": 73,
     "data": {
      "application/vnd.deepnote.dataframe.v3+json": {
       "column_count": 15,
       "row_count": 271116,
       "columns": [
        {
         "name": "ID",
         "dtype": "int64"
        },
        {
         "name": "Name",
         "dtype": "object"
        },
        {
         "name": "Sex",
         "dtype": "object"
        },
        {
         "name": "Age",
         "dtype": "object"
        },
        {
         "name": "Height",
         "dtype": "object"
        },
        {
         "name": "Weight",
         "dtype": "object"
        },
        {
         "name": "Team",
         "dtype": "object"
        },
        {
         "name": "NOC",
         "dtype": "object"
        },
        {
         "name": "Games",
         "dtype": "object"
        },
        {
         "name": "Year",
         "dtype": "int64"
        },
        {
         "name": "Season",
         "dtype": "object"
        },
        {
         "name": "City",
         "dtype": "object"
        },
        {
         "name": "Sport",
         "dtype": "object"
        },
        {
         "name": "Event",
         "dtype": "object"
        },
        {
         "name": "Medal",
         "dtype": "object"
        },
        {
         "name": "_deepnote_index_column",
         "dtype": "int64"
        }
       ],
       "rows": [
        {
         "ID": 1,
         "Name": "A Dijiang",
         "Sex": "M",
         "Age": "24",
         "Height": "180",
         "Weight": "80",
         "Team": "China",
         "NOC": "CHN",
         "Games": "1992 Summer",
         "Year": 1992,
         "Season": "Summer",
         "City": "Barcelona",
         "Sport": "Basketball",
         "Event": "Basketball Men's Basketball",
         "Medal": "NA",
         "_deepnote_index_column": 0
        },
        {
         "ID": 2,
         "Name": "A Lamusi",
         "Sex": "M",
         "Age": "23",
         "Height": "170",
         "Weight": "60",
         "Team": "China",
         "NOC": "CHN",
         "Games": "2012 Summer",
         "Year": 2012,
         "Season": "Summer",
         "City": "London",
         "Sport": "Judo",
         "Event": "Judo Men's Extra-Lightweight",
         "Medal": "NA",
         "_deepnote_index_column": 1
        },
        {
         "ID": 3,
         "Name": "Gunnar Nielsen Aaby",
         "Sex": "M",
         "Age": "24",
         "Height": "NA",
         "Weight": "NA",
         "Team": "Denmark",
         "NOC": "DEN",
         "Games": "1920 Summer",
         "Year": 1920,
         "Season": "Summer",
         "City": "Antwerpen",
         "Sport": "Football",
         "Event": "Football Men's Football",
         "Medal": "NA",
         "_deepnote_index_column": 2
        },
        {
         "ID": 4,
         "Name": "Edgar Lindenau Aabye",
         "Sex": "M",
         "Age": "34",
         "Height": "NA",
         "Weight": "NA",
         "Team": "Denmark/Sweden",
         "NOC": "DEN",
         "Games": "1900 Summer",
         "Year": 1900,
         "Season": "Summer",
         "City": "Paris",
         "Sport": "Tug-Of-War",
         "Event": "Tug-Of-War Men's Tug-Of-War",
         "Medal": "Gold",
         "_deepnote_index_column": 3
        },
        {
         "ID": 5,
         "Name": "Christine Jacoba Aaftink",
         "Sex": "F",
         "Age": "21",
         "Height": "185",
         "Weight": "82",
         "Team": "Netherlands",
         "NOC": "NED",
         "Games": "1988 Winter",
         "Year": 1988,
         "Season": "Winter",
         "City": "Calgary",
         "Sport": "Speed Skating",
         "Event": "Speed Skating Women's 500 metres",
         "Medal": "NA",
         "_deepnote_index_column": 4
        },
        {
         "ID": 5,
         "Name": "Christine Jacoba Aaftink",
         "Sex": "F",
         "Age": "21",
         "Height": "185",
         "Weight": "82",
         "Team": "Netherlands",
         "NOC": "NED",
         "Games": "1988 Winter",
         "Year": 1988,
         "Season": "Winter",
         "City": "Calgary",
         "Sport": "Speed Skating",
         "Event": "Speed Skating Women's 1,000 metres",
         "Medal": "NA",
         "_deepnote_index_column": 5
        },
        {
         "ID": 5,
         "Name": "Christine Jacoba Aaftink",
         "Sex": "F",
         "Age": "25",
         "Height": "185",
         "Weight": "82",
         "Team": "Netherlands",
         "NOC": "NED",
         "Games": "1992 Winter",
         "Year": 1992,
         "Season": "Winter",
         "City": "Albertville",
         "Sport": "Speed Skating",
         "Event": "Speed Skating Women's 500 metres",
         "Medal": "NA",
         "_deepnote_index_column": 6
        },
        {
         "ID": 5,
         "Name": "Christine Jacoba Aaftink",
         "Sex": "F",
         "Age": "25",
         "Height": "185",
         "Weight": "82",
         "Team": "Netherlands",
         "NOC": "NED",
         "Games": "1992 Winter",
         "Year": 1992,
         "Season": "Winter",
         "City": "Albertville",
         "Sport": "Speed Skating",
         "Event": "Speed Skating Women's 1,000 metres",
         "Medal": "NA",
         "_deepnote_index_column": 7
        },
        {
         "ID": 5,
         "Name": "Christine Jacoba Aaftink",
         "Sex": "F",
         "Age": "27",
         "Height": "185",
         "Weight": "82",
         "Team": "Netherlands",
         "NOC": "NED",
         "Games": "1994 Winter",
         "Year": 1994,
         "Season": "Winter",
         "City": "Lillehammer",
         "Sport": "Speed Skating",
         "Event": "Speed Skating Women's 500 metres",
         "Medal": "NA",
         "_deepnote_index_column": 8
        },
        {
         "ID": 5,
         "Name": "Christine Jacoba Aaftink",
         "Sex": "F",
         "Age": "27",
         "Height": "185",
         "Weight": "82",
         "Team": "Netherlands",
         "NOC": "NED",
         "Games": "1994 Winter",
         "Year": 1994,
         "Season": "Winter",
         "City": "Lillehammer",
         "Sport": "Speed Skating",
         "Event": "Speed Skating Women's 1,000 metres",
         "Medal": "NA",
         "_deepnote_index_column": 9
        }
       ]
      },
      "text/plain": "            ID                      Name Sex Age Height Weight  \\\n0            1                 A Dijiang   M  24    180     80   \n1            2                  A Lamusi   M  23    170     60   \n2            3       Gunnar Nielsen Aaby   M  24     NA     NA   \n3            4      Edgar Lindenau Aabye   M  34     NA     NA   \n4            5  Christine Jacoba Aaftink   F  21    185     82   \n...        ...                       ...  ..  ..    ...    ...   \n271111  135569                Andrzej ya   M  29    179     89   \n271112  135570                  Piotr ya   M  27    176     59   \n271113  135570                  Piotr ya   M  27    176     59   \n271114  135571        Tomasz Ireneusz ya   M  30    185     96   \n271115  135571        Tomasz Ireneusz ya   M  34    185     96   \n\n                  Team  NOC        Games  Year  Season            City  \\\n0                China  CHN  1992 Summer  1992  Summer       Barcelona   \n1                China  CHN  2012 Summer  2012  Summer          London   \n2              Denmark  DEN  1920 Summer  1920  Summer       Antwerpen   \n3       Denmark/Sweden  DEN  1900 Summer  1900  Summer           Paris   \n4          Netherlands  NED  1988 Winter  1988  Winter         Calgary   \n...                ...  ...          ...   ...     ...             ...   \n271111        Poland-1  POL  1976 Winter  1976  Winter       Innsbruck   \n271112          Poland  POL  2014 Winter  2014  Winter           Sochi   \n271113          Poland  POL  2014 Winter  2014  Winter           Sochi   \n271114          Poland  POL  1998 Winter  1998  Winter          Nagano   \n271115          Poland  POL  2002 Winter  2002  Winter  Salt Lake City   \n\n                Sport                                     Event Medal  \n0          Basketball               Basketball Men's Basketball    NA  \n1                Judo              Judo Men's Extra-Lightweight    NA  \n2            Football                   Football Men's Football    NA  \n3          Tug-Of-War               Tug-Of-War Men's Tug-Of-War  Gold  \n4       Speed Skating          Speed Skating Women's 500 metres    NA  \n...               ...                                       ...   ...  \n271111           Luge                Luge Mixed (Men)'s Doubles    NA  \n271112    Ski Jumping  Ski Jumping Men's Large Hill, Individual    NA  \n271113    Ski Jumping        Ski Jumping Men's Large Hill, Team    NA  \n271114      Bobsleigh                      Bobsleigh Men's Four    NA  \n271115      Bobsleigh                      Bobsleigh Men's Four    NA  \n\n[271116 rows x 15 columns]",
      "text/html": "<div>\n<style scoped>\n    .dataframe tbody tr th:only-of-type {\n        vertical-align: middle;\n    }\n\n    .dataframe tbody tr th {\n        vertical-align: top;\n    }\n\n    .dataframe thead th {\n        text-align: right;\n    }\n</style>\n<table border=\"1\" class=\"dataframe\">\n  <thead>\n    <tr style=\"text-align: right;\">\n      <th></th>\n      <th>ID</th>\n      <th>Name</th>\n      <th>Sex</th>\n      <th>Age</th>\n      <th>Height</th>\n      <th>Weight</th>\n      <th>Team</th>\n      <th>NOC</th>\n      <th>Games</th>\n      <th>Year</th>\n      <th>Season</th>\n      <th>City</th>\n      <th>Sport</th>\n      <th>Event</th>\n      <th>Medal</th>\n    </tr>\n  </thead>\n  <tbody>\n    <tr>\n      <th>0</th>\n      <td>1</td>\n      <td>A Dijiang</td>\n      <td>M</td>\n      <td>24</td>\n      <td>180</td>\n      <td>80</td>\n      <td>China</td>\n      <td>CHN</td>\n      <td>1992 Summer</td>\n      <td>1992</td>\n      <td>Summer</td>\n      <td>Barcelona</td>\n      <td>Basketball</td>\n      <td>Basketball Men's Basketball</td>\n      <td>NA</td>\n    </tr>\n    <tr>\n      <th>1</th>\n      <td>2</td>\n      <td>A Lamusi</td>\n      <td>M</td>\n      <td>23</td>\n      <td>170</td>\n      <td>60</td>\n      <td>China</td>\n      <td>CHN</td>\n      <td>2012 Summer</td>\n      <td>2012</td>\n      <td>Summer</td>\n      <td>London</td>\n      <td>Judo</td>\n      <td>Judo Men's Extra-Lightweight</td>\n      <td>NA</td>\n    </tr>\n    <tr>\n      <th>2</th>\n      <td>3</td>\n      <td>Gunnar Nielsen Aaby</td>\n      <td>M</td>\n      <td>24</td>\n      <td>NA</td>\n      <td>NA</td>\n      <td>Denmark</td>\n      <td>DEN</td>\n      <td>1920 Summer</td>\n      <td>1920</td>\n      <td>Summer</td>\n      <td>Antwerpen</td>\n      <td>Football</td>\n      <td>Football Men's Football</td>\n      <td>NA</td>\n    </tr>\n    <tr>\n      <th>3</th>\n      <td>4</td>\n      <td>Edgar Lindenau Aabye</td>\n      <td>M</td>\n      <td>34</td>\n      <td>NA</td>\n      <td>NA</td>\n      <td>Denmark/Sweden</td>\n      <td>DEN</td>\n      <td>1900 Summer</td>\n      <td>1900</td>\n      <td>Summer</td>\n      <td>Paris</td>\n      <td>Tug-Of-War</td>\n      <td>Tug-Of-War Men's Tug-Of-War</td>\n      <td>Gold</td>\n    </tr>\n    <tr>\n      <th>4</th>\n      <td>5</td>\n      <td>Christine Jacoba Aaftink</td>\n      <td>F</td>\n      <td>21</td>\n      <td>185</td>\n      <td>82</td>\n      <td>Netherlands</td>\n      <td>NED</td>\n      <td>1988 Winter</td>\n      <td>1988</td>\n      <td>Winter</td>\n      <td>Calgary</td>\n      <td>Speed Skating</td>\n      <td>Speed Skating Women's 500 metres</td>\n      <td>NA</td>\n    </tr>\n    <tr>\n      <th>...</th>\n      <td>...</td>\n      <td>...</td>\n      <td>...</td>\n      <td>...</td>\n      <td>...</td>\n      <td>...</td>\n      <td>...</td>\n      <td>...</td>\n      <td>...</td>\n      <td>...</td>\n      <td>...</td>\n      <td>...</td>\n      <td>...</td>\n      <td>...</td>\n      <td>...</td>\n    </tr>\n    <tr>\n      <th>271111</th>\n      <td>135569</td>\n      <td>Andrzej ya</td>\n      <td>M</td>\n      <td>29</td>\n      <td>179</td>\n      <td>89</td>\n      <td>Poland-1</td>\n      <td>POL</td>\n      <td>1976 Winter</td>\n      <td>1976</td>\n      <td>Winter</td>\n      <td>Innsbruck</td>\n      <td>Luge</td>\n      <td>Luge Mixed (Men)'s Doubles</td>\n      <td>NA</td>\n    </tr>\n    <tr>\n      <th>271112</th>\n      <td>135570</td>\n      <td>Piotr ya</td>\n      <td>M</td>\n      <td>27</td>\n      <td>176</td>\n      <td>59</td>\n      <td>Poland</td>\n      <td>POL</td>\n      <td>2014 Winter</td>\n      <td>2014</td>\n      <td>Winter</td>\n      <td>Sochi</td>\n      <td>Ski Jumping</td>\n      <td>Ski Jumping Men's Large Hill, Individual</td>\n      <td>NA</td>\n    </tr>\n    <tr>\n      <th>271113</th>\n      <td>135570</td>\n      <td>Piotr ya</td>\n      <td>M</td>\n      <td>27</td>\n      <td>176</td>\n      <td>59</td>\n      <td>Poland</td>\n      <td>POL</td>\n      <td>2014 Winter</td>\n      <td>2014</td>\n      <td>Winter</td>\n      <td>Sochi</td>\n      <td>Ski Jumping</td>\n      <td>Ski Jumping Men's Large Hill, Team</td>\n      <td>NA</td>\n    </tr>\n    <tr>\n      <th>271114</th>\n      <td>135571</td>\n      <td>Tomasz Ireneusz ya</td>\n      <td>M</td>\n      <td>30</td>\n      <td>185</td>\n      <td>96</td>\n      <td>Poland</td>\n      <td>POL</td>\n      <td>1998 Winter</td>\n      <td>1998</td>\n      <td>Winter</td>\n      <td>Nagano</td>\n      <td>Bobsleigh</td>\n      <td>Bobsleigh Men's Four</td>\n      <td>NA</td>\n    </tr>\n    <tr>\n      <th>271115</th>\n      <td>135571</td>\n      <td>Tomasz Ireneusz ya</td>\n      <td>M</td>\n      <td>34</td>\n      <td>185</td>\n      <td>96</td>\n      <td>Poland</td>\n      <td>POL</td>\n      <td>2002 Winter</td>\n      <td>2002</td>\n      <td>Winter</td>\n      <td>Salt Lake City</td>\n      <td>Bobsleigh</td>\n      <td>Bobsleigh Men's Four</td>\n      <td>NA</td>\n    </tr>\n  </tbody>\n</table>\n<p>271116 rows × 15 columns</p>\n</div>"
     },
     "metadata": {}
    }
   ]
  },
  {
   "cell_type": "code",
   "metadata": {
    "cell_id": "03e8ba732d3d4aafa5a83553e43dbe6a",
    "tags": [],
    "deepnote_to_be_reexecuted": false,
    "source_hash": "d2efdb94",
    "execution_start": 1658875054185,
    "execution_millis": 249,
    "deepnote_cell_type": "code",
    "deepnote_cell_height": 600
   },
   "source": "noc_regions",
   "execution_count": 74,
   "outputs": [
    {
     "output_type": "execute_result",
     "execution_count": 74,
     "data": {
      "application/vnd.deepnote.dataframe.v3+json": {
       "column_count": 3,
       "row_count": 231,
       "columns": [
        {
         "name": "column0",
         "dtype": "object",
         "stats": {
          "unique_count": 231,
          "nan_count": 0,
          "categories": [
           {
            "name": "NOC",
            "count": 1
           },
           {
            "name": "AFG",
            "count": 1
           },
           {
            "name": "229 others",
            "count": 229
           }
          ]
         }
        },
        {
         "name": "column1",
         "dtype": "object",
         "stats": {
          "unique_count": 208,
          "nan_count": 0,
          "categories": [
           {
            "name": "Germany",
            "count": 4
           },
           {
            "name": "Czech Republic",
            "count": 3
           },
           {
            "name": "206 others",
            "count": 224
           }
          ]
         }
        },
        {
         "name": "column2",
         "dtype": "object",
         "stats": {
          "unique_count": 22,
          "nan_count": 209,
          "categories": [
           {
            "name": "notes",
            "count": 1
           },
           {
            "name": "21 others",
            "count": 21
           },
           {
            "name": "Missing",
            "count": 209
           }
          ]
         }
        },
        {
         "name": "_deepnote_index_column",
         "dtype": "int64"
        }
       ],
       "rows": [
        {
         "column0": "NOC",
         "column1": "region",
         "column2": "notes",
         "_deepnote_index_column": 0
        },
        {
         "column0": "AFG",
         "column1": "Afghanistan",
         "column2": "None",
         "_deepnote_index_column": 1
        },
        {
         "column0": "AHO",
         "column1": "Curacao",
         "column2": "Netherlands Antilles",
         "_deepnote_index_column": 2
        },
        {
         "column0": "ALB",
         "column1": "Albania",
         "column2": "None",
         "_deepnote_index_column": 3
        },
        {
         "column0": "ALG",
         "column1": "Algeria",
         "column2": "None",
         "_deepnote_index_column": 4
        },
        {
         "column0": "AND",
         "column1": "Andorra",
         "column2": "None",
         "_deepnote_index_column": 5
        },
        {
         "column0": "ANG",
         "column1": "Angola",
         "column2": "None",
         "_deepnote_index_column": 6
        },
        {
         "column0": "ANT",
         "column1": "Antigua",
         "column2": "Antigua and Barbuda",
         "_deepnote_index_column": 7
        },
        {
         "column0": "ANZ",
         "column1": "Australia",
         "column2": "Australasia",
         "_deepnote_index_column": 8
        },
        {
         "column0": "ARG",
         "column1": "Argentina",
         "column2": "None",
         "_deepnote_index_column": 9
        }
       ]
      },
      "text/plain": "    column0      column1               column2\n0       NOC       region                 notes\n1       AFG  Afghanistan                  None\n2       AHO      Curacao  Netherlands Antilles\n3       ALB      Albania                  None\n4       ALG      Algeria                  None\n..      ...          ...                   ...\n226     YEM        Yemen                  None\n227     YMD        Yemen           South Yemen\n228     YUG       Serbia            Yugoslavia\n229     ZAM       Zambia                  None\n230     ZIM     Zimbabwe                  None\n\n[231 rows x 3 columns]",
      "text/html": "<div>\n<style scoped>\n    .dataframe tbody tr th:only-of-type {\n        vertical-align: middle;\n    }\n\n    .dataframe tbody tr th {\n        vertical-align: top;\n    }\n\n    .dataframe thead th {\n        text-align: right;\n    }\n</style>\n<table border=\"1\" class=\"dataframe\">\n  <thead>\n    <tr style=\"text-align: right;\">\n      <th></th>\n      <th>column0</th>\n      <th>column1</th>\n      <th>column2</th>\n    </tr>\n  </thead>\n  <tbody>\n    <tr>\n      <th>0</th>\n      <td>NOC</td>\n      <td>region</td>\n      <td>notes</td>\n    </tr>\n    <tr>\n      <th>1</th>\n      <td>AFG</td>\n      <td>Afghanistan</td>\n      <td>None</td>\n    </tr>\n    <tr>\n      <th>2</th>\n      <td>AHO</td>\n      <td>Curacao</td>\n      <td>Netherlands Antilles</td>\n    </tr>\n    <tr>\n      <th>3</th>\n      <td>ALB</td>\n      <td>Albania</td>\n      <td>None</td>\n    </tr>\n    <tr>\n      <th>4</th>\n      <td>ALG</td>\n      <td>Algeria</td>\n      <td>None</td>\n    </tr>\n    <tr>\n      <th>...</th>\n      <td>...</td>\n      <td>...</td>\n      <td>...</td>\n    </tr>\n    <tr>\n      <th>226</th>\n      <td>YEM</td>\n      <td>Yemen</td>\n      <td>None</td>\n    </tr>\n    <tr>\n      <th>227</th>\n      <td>YMD</td>\n      <td>Yemen</td>\n      <td>South Yemen</td>\n    </tr>\n    <tr>\n      <th>228</th>\n      <td>YUG</td>\n      <td>Serbia</td>\n      <td>Yugoslavia</td>\n    </tr>\n    <tr>\n      <th>229</th>\n      <td>ZAM</td>\n      <td>Zambia</td>\n      <td>None</td>\n    </tr>\n    <tr>\n      <th>230</th>\n      <td>ZIM</td>\n      <td>Zimbabwe</td>\n      <td>None</td>\n    </tr>\n  </tbody>\n</table>\n<p>231 rows × 3 columns</p>\n</div>"
     },
     "metadata": {}
    }
   ]
  },
  {
   "cell_type": "markdown",
   "source": "<a style='text-decoration:none;line-height:16px;display:flex;color:#5B5B62;padding:10px;justify-content:end;' href='https://deepnote.com?utm_source=created-in-deepnote-cell&projectId=2d3806b4-f613-46a3-bb26-bf009320902b' target=\"_blank\">\n<img alt='Created in deepnote.com' style='display:inline;max-height:16px;margin:0px;margin-right:7.5px;' src='data:image/svg+xml;base64,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' > </img>\nCreated in <span style='font-weight:600;margin-left:4px;'>Deepnote</span></a>",
   "metadata": {
    "tags": [],
    "created_in_deepnote_cell": true,
    "deepnote_cell_type": "markdown"
   }
  }
 ],
 "nbformat": 4,
 "nbformat_minor": 2,
 "metadata": {
  "orig_nbformat": 2,
  "deepnote": {},
  "deepnote_notebook_id": "e79c52b1-6197-4041-99c3-8a71a3f53209",
  "deepnote_execution_queue": []
 }
}